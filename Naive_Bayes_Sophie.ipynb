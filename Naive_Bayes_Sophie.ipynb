{
 "cells": [
  {
   "cell_type": "code",
   "execution_count": 1,
   "id": "2e40a0c7",
   "metadata": {},
   "outputs": [],
   "source": [
    "import pandas as pd\n",
    "import numpy as np\n",
    "import seaborn as sns\n",
    "import matplotlib.pyplot as plt"
   ]
  },
  {
   "cell_type": "code",
   "execution_count": 2,
   "id": "2392cd73",
   "metadata": {},
   "outputs": [],
   "source": [
    "data_file = 'data/Occupancy_Estimation.csv'"
   ]
  },
  {
   "cell_type": "code",
   "execution_count": 3,
   "id": "ee4b88e6",
   "metadata": {},
   "outputs": [],
   "source": [
    "df = pd.read_csv(data_file)"
   ]
  },
  {
   "cell_type": "code",
   "execution_count": 4,
   "id": "faaa8469",
   "metadata": {},
   "outputs": [
    {
     "data": {
      "text/plain": [
       "(10129, 19)"
      ]
     },
     "execution_count": 4,
     "metadata": {},
     "output_type": "execute_result"
    }
   ],
   "source": [
    "df.shape"
   ]
  },
  {
   "cell_type": "code",
   "execution_count": 5,
   "id": "59abadef",
   "metadata": {},
   "outputs": [],
   "source": [
    "df['Date'] = pd.to_datetime(df['Date'])"
   ]
  },
  {
   "cell_type": "code",
   "execution_count": 6,
   "id": "c2986dae",
   "metadata": {},
   "outputs": [],
   "source": [
    "df[\"Time\"] = pd.to_timedelta(df[\"Time\"])"
   ]
  },
  {
   "cell_type": "code",
   "execution_count": 7,
   "id": "c6b49460",
   "metadata": {},
   "outputs": [
    {
     "data": {
      "text/plain": [
       "Date                    0\n",
       "Time                    0\n",
       "S1_Temp                 0\n",
       "S2_Temp                 0\n",
       "S3_Temp                 0\n",
       "S4_Temp                 0\n",
       "S1_Light                0\n",
       "S2_Light                0\n",
       "S3_Light                0\n",
       "S4_Light                0\n",
       "S1_Sound                0\n",
       "S2_Sound                0\n",
       "S3_Sound                0\n",
       "S4_Sound                0\n",
       "S5_CO2                  0\n",
       "S5_CO2_Slope            0\n",
       "S6_PIR                  0\n",
       "S7_PIR                  0\n",
       "Room_Occupancy_Count    0\n",
       "dtype: int64"
      ]
     },
     "execution_count": 7,
     "metadata": {},
     "output_type": "execute_result"
    }
   ],
   "source": [
    "df.isna().sum()"
   ]
  },
  {
   "cell_type": "code",
   "execution_count": 8,
   "id": "bda8217b",
   "metadata": {},
   "outputs": [
    {
     "data": {
      "text/plain": [
       "Index(['Date', 'Time', 'S1_Temp', 'S2_Temp', 'S3_Temp', 'S4_Temp', 'S1_Light',\n",
       "       'S2_Light', 'S3_Light', 'S4_Light', 'S1_Sound', 'S2_Sound', 'S3_Sound',\n",
       "       'S4_Sound', 'S5_CO2', 'S5_CO2_Slope', 'S6_PIR', 'S7_PIR',\n",
       "       'Room_Occupancy_Count'],\n",
       "      dtype='object')"
      ]
     },
     "execution_count": 8,
     "metadata": {},
     "output_type": "execute_result"
    }
   ],
   "source": [
    "df.columns"
   ]
  },
  {
   "cell_type": "code",
   "execution_count": 9,
   "id": "27a7154d",
   "metadata": {},
   "outputs": [
    {
     "data": {
      "text/plain": [
       "Date                     datetime64[ns]\n",
       "Time                    timedelta64[ns]\n",
       "S1_Temp                         float64\n",
       "S2_Temp                         float64\n",
       "S3_Temp                         float64\n",
       "S4_Temp                         float64\n",
       "S1_Light                          int64\n",
       "S2_Light                          int64\n",
       "S3_Light                          int64\n",
       "S4_Light                          int64\n",
       "S1_Sound                        float64\n",
       "S2_Sound                        float64\n",
       "S3_Sound                        float64\n",
       "S4_Sound                        float64\n",
       "S5_CO2                            int64\n",
       "S5_CO2_Slope                    float64\n",
       "S6_PIR                            int64\n",
       "S7_PIR                            int64\n",
       "Room_Occupancy_Count              int64\n",
       "dtype: object"
      ]
     },
     "execution_count": 9,
     "metadata": {},
     "output_type": "execute_result"
    }
   ],
   "source": [
    "df.dtypes"
   ]
  },
  {
   "cell_type": "code",
   "execution_count": 10,
   "id": "5d9cfc59",
   "metadata": {},
   "outputs": [],
   "source": [
    "df['Day_of_Week'] = df['Date'].dt.dayofweek\n",
    "df['Day_of_Week'] = df['Day_of_Week'].astype('category')"
   ]
  },
  {
   "cell_type": "code",
   "execution_count": 11,
   "id": "ce812500",
   "metadata": {},
   "outputs": [],
   "source": [
    "def categorize_time_of_day(time_delta):\n",
    "    hour = time_delta.seconds // 3600 \n",
    "    if 5 <= hour < 12:\n",
    "        return 'Morning'\n",
    "    elif 12 <= hour < 17:\n",
    "        return 'Afternoon'\n",
    "    elif 17 <= hour < 21:\n",
    "        return 'Evening'\n",
    "    else:\n",
    "        return 'Night'\n",
    "df['Part_of_Day'] = df['Time'].apply(categorize_time_of_day)\n",
    "df['Part_of_Day'] = df['Part_of_Day'].astype('category')"
   ]
  },
  {
   "cell_type": "code",
   "execution_count": 12,
   "id": "5cca33a3",
   "metadata": {},
   "outputs": [],
   "source": [
    "# One hot encoding (to represent categorical variables)\n",
    "df = pd.get_dummies(df, columns=['Day_of_Week', 'Part_of_Day'])"
   ]
  },
  {
   "cell_type": "code",
   "execution_count": 13,
   "id": "262cde6f",
   "metadata": {},
   "outputs": [],
   "source": [
    "# Drop Date and Time columns now that we have day of week and part of day info\n",
    "df = df.drop(['Date', 'Time'], axis=1)"
   ]
  },
  {
   "cell_type": "markdown",
   "id": "3fc05e9e",
   "metadata": {},
   "source": [
    "# Correlation Analysis \n",
    "In this section, we are checking if columns are independent of each other in order to perform Naive Bayes. "
   ]
  },
  {
   "cell_type": "code",
   "execution_count": 14,
   "id": "06a29298",
   "metadata": {},
   "outputs": [
    {
     "data": {
      "text/plain": [
       "['S1_Temp', 'S2_Temp', 'S3_Temp', 'S4_Temp']"
      ]
     },
     "execution_count": 14,
     "metadata": {},
     "output_type": "execute_result"
    }
   ],
   "source": [
    "temp_sensors = ['S1_Temp', 'S2_Temp', 'S3_Temp', 'S4_Temp']\n",
    "temp_sensors"
   ]
  },
  {
   "cell_type": "code",
   "execution_count": 15,
   "id": "ed1cc2a3",
   "metadata": {},
   "outputs": [
    {
     "data": {
      "text/plain": [
       "['S1_Light', 'S2_Light', 'S3_Light', 'S4_Light']"
      ]
     },
     "execution_count": 15,
     "metadata": {},
     "output_type": "execute_result"
    }
   ],
   "source": [
    "light_sensors = ['S1_Light', 'S2_Light', 'S3_Light', 'S4_Light']\n",
    "light_sensors"
   ]
  },
  {
   "cell_type": "code",
   "execution_count": 16,
   "id": "d29063ea",
   "metadata": {},
   "outputs": [
    {
     "data": {
      "text/plain": [
       "['S1_Sound', 'S2_Sound', 'S3_Sound', 'S4_Sound']"
      ]
     },
     "execution_count": 16,
     "metadata": {},
     "output_type": "execute_result"
    }
   ],
   "source": [
    "sound_sensors = ['S1_Sound', 'S2_Sound', 'S3_Sound', 'S4_Sound']\n",
    "sound_sensors"
   ]
  },
  {
   "cell_type": "code",
   "execution_count": 17,
   "id": "320902ab",
   "metadata": {},
   "outputs": [],
   "source": [
    "corr_temp = df[temp_sensors].corr()\n",
    "corr_light = df[light_sensors].corr()\n",
    "corr_sound = df[sound_sensors].corr()"
   ]
  },
  {
   "cell_type": "code",
   "execution_count": 18,
   "id": "3db23bf4",
   "metadata": {},
   "outputs": [
    {
     "data": {
      "image/png": "[encoded data removed]",
      "text/plain": [
       "<Figure size 1800x500 with 6 Axes>"
      ]
     },
     "metadata": {},
     "output_type": "display_data"
    }
   ],
   "source": [
    "plt.figure(figsize=(18, 5))\n",
    "plt.subplot(1, 3, 1)\n",
    "sns.heatmap(corr_temp, annot=True, fmt=\".2f\", cbar=True, square=True)\n",
    "plt.title('Temperature Sensors Correlation Matrix')\n",
    "plt.subplot(1, 3, 2)\n",
    "sns.heatmap(corr_light, annot=True, fmt=\".2f\", cbar=True, square=True)\n",
    "plt.title('Light Sensors Correlation Matrix')\n",
    "plt.subplot(1, 3, 3)\n",
    "sns.heatmap(corr_sound, annot=True, fmt=\".2f\", cbar=True, square=True)\n",
    "plt.title('Sound Sensors Correlation Matrix')\n",
    "plt.tight_layout()\n",
    "plt.show()"
   ]
  },
  {
   "cell_type": "markdown",
   "id": "4b3f2bc7",
   "metadata": {},
   "source": [
    "## Result of Correlation Matrix\n",
    "\n",
    "### Temperature Sensors\n",
    "The correlation coefficients between the temperature sensors are all a bit high.\n",
    "\n",
    "**S1_Temp** and **S3_Temp** show a very high correlation which is 0.95. This tells us these two sensors often register similar temperature readings. Same applies for **S3_Temp** with **S4_Temp** (0.89) and **S1_Temp** (0.95). **S2_Temp** has the lowest correlations with other sensors but still significant.\n",
    "\n",
    "These high correlations suggest that the temperature readings across these sensors are consistent. Model with fewer temperature sensors will not losing significant information. \n",
    "\n",
    "### Light Sensors\n",
    "The correlations among light sensors are less than temperature but still generally high.\n",
    "\n",
    "**S1_Light** and **S2_Light** are highly correlated (0.84), as are **S1_Light** and **S3_Light** (0.82).**S4_Light** shows noticeable lower correlations with the others, particularly with S2_Light (0.46) and S1_Light (0.51). \n",
    "\n",
    "### Sound Sensors\n",
    "The sound sensors show moderate correlations with each other and less redundant compared to temperature sensors. \n",
    "\n",
    "The highest correlation is between **S3_Sound** and **S4_Sound** (0.70), which might indicate proximity or similar sound environments.\n",
    "\n",
    "Other correlations range from 0.53 to 0.58, suggesting that while there is some level of commonality in the sound data captured, each sensor also picks up unique sound information.\n",
    "\n",
    "### Next Step \n",
    "Based on the correlation data from the correlation matrix, it is clear that this assumption does not strictly hold in our dataset, especially among temperature sensors. Therefore, we are dropping some highly correlated features in order to reduce redundancy. \n",
    "\n",
    "**Drop S3_Temp:** it is highly correlated with both S1_Temp and S4_Temp. \n",
    "\n",
    "**Keeping all light sensors:** Although S1_Light and S2_Light are highly correlated, the correlations among other light sensors are moderate enough to potentially justify keeping all for a more nuanced understanding of light conditions.\n",
    "\n",
    "**Keep all sound sensors:** The correlations here are moderate, suggesting each captures somewhat unique sound information which might be useful for detailed acoustic analysis."
   ]
  },
  {
   "cell_type": "code",
   "execution_count": 19,
   "id": "77344663",
   "metadata": {},
   "outputs": [],
   "source": [
    "df = df.drop(['S3_Temp'], axis=1)"
   ]
  },
  {
   "cell_type": "code",
   "execution_count": 20,
   "id": "3c92f562",
   "metadata": {},
   "outputs": [
    {
     "data": {
      "text/plain": [
       "Index(['S1_Temp', 'S2_Temp', 'S4_Temp', 'S1_Light', 'S2_Light', 'S3_Light',\n",
       "       'S4_Light', 'S1_Sound', 'S2_Sound', 'S3_Sound', 'S4_Sound', 'S5_CO2',\n",
       "       'S5_CO2_Slope', 'S6_PIR', 'S7_PIR', 'Room_Occupancy_Count',\n",
       "       'Day_of_Week_0', 'Day_of_Week_1', 'Day_of_Week_2', 'Day_of_Week_3',\n",
       "       'Day_of_Week_4', 'Day_of_Week_5', 'Day_of_Week_6',\n",
       "       'Part_of_Day_Afternoon', 'Part_of_Day_Evening', 'Part_of_Day_Morning',\n",
       "       'Part_of_Day_Night'],\n",
       "      dtype='object')"
      ]
     },
     "execution_count": 20,
     "metadata": {},
     "output_type": "execute_result"
    }
   ],
   "source": [
    "df.columns"
   ]
  },
  {
   "cell_type": "markdown",
   "id": "12b802f2",
   "metadata": {},
   "source": [
    "# Split Data"
   ]
  },
  {
   "cell_type": "code",
   "execution_count": 22,
   "id": "6007b6c9",
   "metadata": {},
   "outputs": [],
   "source": [
    "features = df.columns.drop('Room_Occupancy_Count')  \n",
    "X = df[features]\n",
    "y = df['Room_Occupancy_Count']"
   ]
  },
  {
   "cell_type": "code",
   "execution_count": 23,
   "id": "8c74d08c",
   "metadata": {},
   "outputs": [],
   "source": [
    "train_df = df.sample(frac=0.8, random_state=1)\n",
    "test_df = df.drop(train_df.index)"
   ]
  },
  {
   "cell_type": "code",
   "execution_count": 24,
   "id": "1254c69b",
   "metadata": {},
   "outputs": [
    {
     "name": "stdout",
     "output_type": "stream",
     "text": [
      "X_train shape is (8103, 26)\n",
      "X_test shape  is (2026, 26)\n",
      "y_train shape is (8103,)\n",
      "y_test shape is (2026,)\n"
     ]
    }
   ],
   "source": [
    "features = train_df.columns.drop('Room_Occupancy_Count')\n",
    "X_train = train_df[features].values\n",
    "y_train = train_df['Room_Occupancy_Count'].values\n",
    "X_test = test_df[features].values\n",
    "y_test = test_df['Room_Occupancy_Count'].values\n",
    "print(\"X_train shape is\", X_train.shape)\n",
    "print(\"X_test shape  is\", X_test.shape)\n",
    "print(\"y_train shape is\", y_train.shape)\n",
    "print(\"y_test shape is\", y_test.shape)"
   ]
  },
  {
   "cell_type": "markdown",
   "id": "6d8380b1",
   "metadata": {},
   "source": [
    "# Naive Bayes \n",
    "## Prior probabilities P(y)"
   ]
  },
  {
   "cell_type": "code",
   "execution_count": 35,
   "id": "96660276",
   "metadata": {},
   "outputs": [
    {
     "name": "stdout",
     "output_type": "stream",
     "text": [
      "Prior probabilities: {0: 0.8119215105516475, 1: 0.04541527829199062, 2: 0.07379982722448476, 3: 0.06886338393187708}\n"
     ]
    }
   ],
   "source": [
    "classes = np.unique(y_train)\n",
    "prior_probabilities = {cls: np.mean(y_train == cls) for cls in classes}\n",
    "print(\"Prior probabilities:\", prior_probabilities)"
   ]
  },
  {
   "cell_type": "markdown",
   "id": "9998ff0a",
   "metadata": {},
   "source": [
    "## Likelihood"
   ]
  },
  {
   "cell_type": "code",
   "execution_count": 36,
   "id": "ee4336c1",
   "metadata": {},
   "outputs": [],
   "source": [
    "mean_variance = {}\n",
    "for cls in classes:\n",
    "    features_data = X_train[y_train == cls]\n",
    "    mean_variance[cls] = {\n",
    "        \"mean\": np.mean(features_data, axis=0),\n",
    "        \"variance\": np.var(features_data, axis=0)\n",
    "    }"
   ]
  },
  {
   "cell_type": "code",
   "execution_count": 37,
   "id": "c91ca3cd",
   "metadata": {},
   "outputs": [
    {
     "name": "stdout",
     "output_type": "stream",
     "text": [
      "Class: 0\n",
      "Means:\n",
      "  S1_Temp: 25.3372\n",
      "  S2_Temp: 25.3703\n",
      "  S4_Temp: 25.6600\n",
      "  S1_Light: 2.6743\n",
      "  S2_Light: 3.0391\n",
      "  S3_Light: 13.2899\n",
      "  S4_Light: 9.1832\n",
      "  S1_Sound: 0.0767\n",
      "  S2_Sound: 0.0523\n",
      "  S3_Sound: 0.0634\n",
      "  S4_Sound: 0.0794\n",
      "  S5_CO2: 404.8290\n",
      "  S5_CO2_Slope: -0.3089\n",
      "  S6_PIR: 0.0027\n",
      "  S7_PIR: 0.0015\n",
      "  Day_of_Week_0: 0.2081\n",
      "  Day_of_Week_1: 0.1269\n",
      "  Day_of_Week_2: 0.0868\n",
      "  Day_of_Week_3: 0.1265\n",
      "  Day_of_Week_4: 0.0774\n",
      "  Day_of_Week_5: 0.2440\n",
      "  Day_of_Week_6: 0.1304\n",
      "  Part_of_Day_Afternoon: 0.1038\n",
      "  Part_of_Day_Evening: 0.1365\n",
      "  Part_of_Day_Morning: 0.3060\n",
      "  Part_of_Day_Night: 0.4537\n",
      "Variances:\n",
      "  S1_Temp: 0.0578\n",
      "  S2_Temp: 0.1082\n",
      "  S4_Temp: 0.0948\n",
      "  S1_Light: 26.6252\n",
      "  S2_Light: 34.8717\n",
      "  S3_Light: 584.0277\n",
      "  S4_Light: 280.9652\n",
      "  S1_Sound: 0.0039\n",
      "  S2_Sound: 0.0032\n",
      "  S3_Sound: 0.0047\n",
      "  S4_Sound: 0.0005\n",
      "  S5_CO2: 18851.6389\n",
      "  S5_CO2_Slope: 0.7127\n",
      "  S6_PIR: 0.0027\n",
      "  S7_PIR: 0.0015\n",
      "  Day_of_Week_0: 0.1648\n",
      "  Day_of_Week_1: 0.1108\n",
      "  Day_of_Week_2: 0.0793\n",
      "  Day_of_Week_3: 0.1105\n",
      "  Day_of_Week_4: 0.0714\n",
      "  Day_of_Week_5: 0.1844\n",
      "  Day_of_Week_6: 0.1134\n",
      "  Part_of_Day_Afternoon: 0.0930\n",
      "  Part_of_Day_Evening: 0.1179\n",
      "  Part_of_Day_Morning: 0.2124\n",
      "  Part_of_Day_Night: 0.2479\n",
      "\n",
      "\n",
      "Class: 1\n",
      "Means:\n",
      "  S1_Temp: 25.7538\n",
      "  S2_Temp: 25.8449\n",
      "  S4_Temp: 26.1012\n",
      "  S1_Light: 120.2201\n",
      "  S2_Light: 31.5924\n",
      "  S3_Light: 54.3533\n",
      "  S4_Light: 37.5136\n",
      "  S1_Sound: 0.4517\n",
      "  S2_Sound: 0.1395\n",
      "  S3_Sound: 0.1302\n",
      "  S4_Sound: 0.0961\n",
      "  S5_CO2: 472.0652\n",
      "  S5_CO2_Slope: 0.2849\n",
      "  S6_PIR: 0.3560\n",
      "  S7_PIR: 0.0435\n",
      "  Day_of_Week_0: 0.0000\n",
      "  Day_of_Week_1: 0.0000\n",
      "  Day_of_Week_2: 0.0000\n",
      "  Day_of_Week_3: 0.0000\n",
      "  Day_of_Week_4: 0.4375\n",
      "  Day_of_Week_5: 0.5625\n",
      "  Day_of_Week_6: 0.0000\n",
      "  Part_of_Day_Afternoon: 0.8071\n",
      "  Part_of_Day_Evening: 0.0000\n",
      "  Part_of_Day_Morning: 0.1929\n",
      "  Part_of_Day_Night: 0.0000\n",
      "Variances:\n",
      "  S1_Temp: 0.1059\n",
      "  S2_Temp: 0.4780\n",
      "  S4_Temp: 0.0753\n",
      "  S1_Light: 16.7532\n",
      "  S2_Light: 256.8719\n",
      "  S3_Light: 261.1306\n",
      "  S4_Light: 125.8259\n",
      "  S1_Sound: 0.2549\n",
      "  S2_Sound: 0.0170\n",
      "  S3_Sound: 0.0114\n",
      "  S4_Sound: 0.0028\n",
      "  S5_CO2: 8397.9088\n",
      "  S5_CO2_Slope: 0.9037\n",
      "  S6_PIR: 0.2293\n",
      "  S7_PIR: 0.0416\n",
      "  Day_of_Week_0: 0.0000\n",
      "  Day_of_Week_1: 0.0000\n",
      "  Day_of_Week_2: 0.0000\n",
      "  Day_of_Week_3: 0.0000\n",
      "  Day_of_Week_4: 0.2461\n",
      "  Day_of_Week_5: 0.2461\n",
      "  Day_of_Week_6: 0.0000\n",
      "  Part_of_Day_Afternoon: 0.1557\n",
      "  Part_of_Day_Evening: 0.0000\n",
      "  Part_of_Day_Morning: 0.1557\n",
      "  Part_of_Day_Night: 0.0000\n",
      "\n",
      "\n",
      "Class: 2\n",
      "Means:\n",
      "  S1_Temp: 26.0129\n",
      "  S2_Temp: 26.1748\n",
      "  S4_Temp: 26.1863\n",
      "  S1_Light: 135.2993\n",
      "  S2_Light: 130.9582\n",
      "  S3_Light: 138.7910\n",
      "  S4_Light: 29.3177\n",
      "  S1_Sound: 0.6286\n",
      "  S2_Sound: 0.5370\n",
      "  S3_Sound: 0.6483\n",
      "  S4_Sound: 0.2426\n",
      "  S5_CO2: 716.9314\n",
      "  S5_CO2_Slope: 1.1482\n",
      "  S6_PIR: 0.4766\n",
      "  S7_PIR: 0.4331\n",
      "  Day_of_Week_0: 0.0000\n",
      "  Day_of_Week_1: 0.0000\n",
      "  Day_of_Week_2: 0.1321\n",
      "  Day_of_Week_3: 0.0000\n",
      "  Day_of_Week_4: 0.3278\n",
      "  Day_of_Week_5: 0.5401\n",
      "  Day_of_Week_6: 0.0000\n",
      "  Part_of_Day_Afternoon: 0.4264\n",
      "  Part_of_Day_Evening: 0.5050\n",
      "  Part_of_Day_Morning: 0.0686\n",
      "  Part_of_Day_Night: 0.0000\n",
      "Variances:\n",
      "  S1_Temp: 0.0517\n",
      "  S2_Temp: 0.3857\n",
      "  S4_Temp: 0.0310\n",
      "  S1_Light: 404.6077\n",
      "  S2_Light: 12033.2073\n",
      "  S3_Light: 3885.7774\n",
      "  S4_Light: 530.5111\n",
      "  S1_Sound: 0.3447\n",
      "  S2_Sound: 0.3423\n",
      "  S3_Sound: 0.6732\n",
      "  S4_Sound: 0.0455\n",
      "  S5_CO2: 37583.1843\n",
      "  S5_CO2_Slope: 1.5906\n",
      "  S6_PIR: 0.2495\n",
      "  S7_PIR: 0.2455\n",
      "  Day_of_Week_0: 0.0000\n",
      "  Day_of_Week_1: 0.0000\n",
      "  Day_of_Week_2: 0.1147\n",
      "  Day_of_Week_3: 0.0000\n",
      "  Day_of_Week_4: 0.2203\n",
      "  Day_of_Week_5: 0.2484\n",
      "  Day_of_Week_6: 0.0000\n",
      "  Part_of_Day_Afternoon: 0.2446\n",
      "  Part_of_Day_Evening: 0.2500\n",
      "  Part_of_Day_Morning: 0.0639\n",
      "  Part_of_Day_Night: 0.0000\n",
      "\n",
      "\n",
      "Class: 3\n",
      "Means:\n",
      "  S1_Temp: 26.0608\n",
      "  S2_Temp: 26.7358\n",
      "  S4_Temp: 26.1827\n",
      "  S1_Light: 112.9928\n",
      "  S2_Light: 176.9462\n",
      "  S3_Light: 156.4122\n",
      "  S4_Light: 26.2419\n",
      "  S1_Sound: 0.5885\n",
      "  S2_Sound: 0.4865\n",
      "  S3_Sound: 0.8075\n",
      "  S4_Sound: 0.2603\n",
      "  S5_CO2: 847.9659\n",
      "  S5_CO2_Slope: 2.1748\n",
      "  S6_PIR: 0.5609\n",
      "  S7_PIR: 0.6774\n",
      "  Day_of_Week_0: 0.0000\n",
      "  Day_of_Week_1: 0.0000\n",
      "  Day_of_Week_2: 0.2957\n",
      "  Day_of_Week_3: 0.0000\n",
      "  Day_of_Week_4: 0.5197\n",
      "  Day_of_Week_5: 0.1846\n",
      "  Day_of_Week_6: 0.0000\n",
      "  Part_of_Day_Afternoon: 0.4642\n",
      "  Part_of_Day_Evening: 0.5358\n",
      "  Part_of_Day_Morning: 0.0000\n",
      "  Part_of_Day_Night: 0.0000\n",
      "Variances:\n",
      "  S1_Temp: 0.0627\n",
      "  S2_Temp: 0.6526\n",
      "  S4_Temp: 0.0685\n",
      "  S1_Light: 4240.0537\n",
      "  S2_Light: 10655.4989\n",
      "  S3_Light: 6441.5398\n",
      "  S4_Light: 530.6386\n",
      "  S1_Sound: 0.3732\n",
      "  S2_Sound: 0.2999\n",
      "  S3_Sound: 1.0455\n",
      "  S4_Sound: 0.1232\n",
      "  S5_CO2: 59794.3841\n",
      "  S5_CO2_Slope: 2.1743\n",
      "  S6_PIR: 0.2463\n",
      "  S7_PIR: 0.2185\n",
      "  Day_of_Week_0: 0.0000\n",
      "  Day_of_Week_1: 0.0000\n",
      "  Day_of_Week_2: 0.2083\n",
      "  Day_of_Week_3: 0.0000\n",
      "  Day_of_Week_4: 0.2496\n",
      "  Day_of_Week_5: 0.1505\n",
      "  Day_of_Week_6: 0.0000\n",
      "  Part_of_Day_Afternoon: 0.2487\n",
      "  Part_of_Day_Evening: 0.2487\n",
      "  Part_of_Day_Morning: 0.0000\n",
      "  Part_of_Day_Night: 0.0000\n",
      "\n",
      "\n"
     ]
    }
   ],
   "source": [
    "feature_names = df.drop(['Room_Occupancy_Count'], axis=1).columns\n",
    "for cls, stats in mean_variance.items():\n",
    "    print(f\"Class: {cls}\")\n",
    "    print(\"Means:\")\n",
    "    for feature, value in zip(feature_names, stats['mean']):\n",
    "        print(f\"  {feature}: {value:.4f}\")\n",
    "    print(\"Variances:\")\n",
    "    for feature, value in zip(feature_names, stats['variance']):\n",
    "        print(f\"  {feature}: {value:.4f}\")\n",
    "    print(\"\\n\")"
   ]
  },
  {
   "cell_type": "markdown",
   "id": "78d23e03",
   "metadata": {},
   "source": [
    "## Posterior Probability"
   ]
  },
  {
   "cell_type": "code",
   "execution_count": 40,
   "id": "381225ca",
   "metadata": {},
   "outputs": [],
   "source": [
    "mean_variance = {}\n",
    "for cls in classes:\n",
    "    features_data = X_train[y_train == cls]\n",
    "    mean_variance[cls] = {\n",
    "        \"mean\": np.mean(features_data, axis=0),\n",
    "        \"variance\": np.var(features_data, axis=0)\n",
    "    }\n",
    "\n",
    "def gaussian_pdf(x, mean, variance):\n",
    "    \"\"\"\n",
    "    Calculate the Gaussian probability density function.\n",
    "\n",
    "    Parameters:\n",
    "        x (float): The point for calculating the probability.\n",
    "        mean (float): The mean of the Gaussian distribution.\n",
    "        variance (float): The variance of the Gaussian distribution.\n",
    "\n",
    "    Returns:\n",
    "        float: The probability density value.\n",
    "    \"\"\"\n",
    "    coefficient = 1 / np.sqrt(2 * np.pi * variance)\n",
    "    exponent = np.exp(-((x - mean) ** 2) / (2 * variance))\n",
    "    return coefficient * exponent\n",
    "\n",
    "def predict(X, mean_variance, prior_probabilities, features):\n",
    "    \"\"\"\n",
    "    Predict the class labels for the given inputs.\n",
    "\n",
    "    Parameters:\n",
    "        X (ndarray): Input features.\n",
    "        mean_variance (dict): Precomputed mean and variance for each class.\n",
    "        prior_probabilities (dict): Prior probabilities of each class.\n",
    "        features (list): List of feature names.\n",
    "\n",
    "    Returns:\n",
    "        list: Predicted class labels.\n",
    "    \"\"\"\n",
    "    predictions = []\n",
    "    for x in X:\n",
    "        class_probs = {}\n",
    "        for cls in classes:\n",
    "            class_probs[cls] = np.log(prior_probabilities[cls])\n",
    "            for i, feature in enumerate(features):\n",
    "                mean = mean_variance[cls][\"mean\"][i]\n",
    "                variance = mean_variance[cls][\"variance\"][i]\n",
    "                class_probs[cls] += np.log(gaussian_pdf(x[i], mean, variance))\n",
    "        predictions.append(max(class_probs, key=class_probs.get))\n",
    "    return predictions"
   ]
  },
  {
   "cell_type": "code",
   "execution_count": 41,
   "id": "a0fb9944",
   "metadata": {},
   "outputs": [],
   "source": [
    "def predict(X, mean_variance, prior_probabilities, features):\n",
    "    predictions = []\n",
    "    for x in X:\n",
    "        class_probs = {}\n",
    "        for cls in classes:\n",
    "            class_probs[cls] = np.log(prior_probabilities[cls])\n",
    "            for i, feature in enumerate(features):\n",
    "                mean = mean_variance[cls][\"mean\"][i]\n",
    "                variance = mean_variance[cls][\"variance\"][i]\n",
    "                class_probs[cls] += np.log(gaussian_pdf(x[i], mean, variance))\n",
    "        predictions.append(max(class_probs, key=class_probs.get))\n",
    "    return predictions"
   ]
  },
  {
   "cell_type": "code",
   "execution_count": 42,
   "id": "226b07c4",
   "metadata": {},
   "outputs": [
    {
     "name": "stderr",
     "output_type": "stream",
     "text": [
      "/var/folders/ss/mk5yhtwj41sf_tlkfkr4n5lh0000gn/T/ipykernel_43861/2239157096.py:21: RuntimeWarning: divide by zero encountered in scalar divide\n",
      "  coefficient = 1 / np.sqrt(2 * np.pi * variance)\n",
      "/var/folders/ss/mk5yhtwj41sf_tlkfkr4n5lh0000gn/T/ipykernel_43861/2239157096.py:22: RuntimeWarning: invalid value encountered in scalar divide\n",
      "  exponent = np.exp(-((x - mean) ** 2) / (2 * variance))\n",
      "/var/folders/ss/mk5yhtwj41sf_tlkfkr4n5lh0000gn/T/ipykernel_43861/2239157096.py:22: RuntimeWarning: divide by zero encountered in scalar divide\n",
      "  exponent = np.exp(-((x - mean) ** 2) / (2 * variance))\n",
      "/var/folders/ss/mk5yhtwj41sf_tlkfkr4n5lh0000gn/T/ipykernel_43861/2239157096.py:23: RuntimeWarning: invalid value encountered in scalar multiply\n",
      "  return coefficient * exponent\n",
      "/var/folders/ss/mk5yhtwj41sf_tlkfkr4n5lh0000gn/T/ipykernel_43861/3126179150.py:10: RuntimeWarning: divide by zero encountered in log\n",
      "  class_probs[cls] += np.log(gaussian_pdf(x[i], mean, variance))\n"
     ]
    }
   ],
   "source": [
    "y_pred = predict(X_test, mean_variance, prior_probabilities, features)"
   ]
  },
  {
   "cell_type": "markdown",
   "id": "5e030e93",
   "metadata": {},
   "source": [
    "# Evaluation"
   ]
  },
  {
   "cell_type": "code",
   "execution_count": 44,
   "id": "5b74843e",
   "metadata": {},
   "outputs": [
    {
     "name": "stdout",
     "output_type": "stream",
     "text": [
      "Accuracy: 0.81\n"
     ]
    }
   ],
   "source": [
    "def accuracy_score(y_true, y_pred):\n",
    "    return np.mean(y_true == y_pred)\n",
    "\n",
    "accuracy = accuracy_score(y_test, y_pred)\n",
    "print(f\"Accuracy: {accuracy:.2f}\")"
   ]
  },
  {
   "cell_type": "code",
   "execution_count": 45,
   "id": "df159fd1",
   "metadata": {},
   "outputs": [
    {
     "name": "stdout",
     "output_type": "stream",
     "text": [
      "Precision: 0.81\n",
      "Recall: 0.25\n",
      "F1 Score: 0.38\n"
     ]
    },
    {
     "name": "stderr",
     "output_type": "stream",
     "text": [
      "/var/folders/ss/mk5yhtwj41sf_tlkfkr4n5lh0000gn/T/ipykernel_43861/1554308906.py:10: RuntimeWarning: invalid value encountered in divide\n",
      "  precision = np.diag(cm) / np.sum(cm, axis=0)\n"
     ]
    }
   ],
   "source": [
    "def confusion_matrix(y_true, y_pred, labels):\n",
    "    matrix = np.zeros((len(labels), len(labels)), dtype=int)\n",
    "    for i, label in enumerate(labels):\n",
    "        for j, pred_label in enumerate(labels):\n",
    "            matrix[i, j] = np.sum((y_true == label) & (y_pred == pred_label))\n",
    "    return matrix\n",
    "\n",
    "def precision_score(y_true, y_pred, labels):\n",
    "    cm = confusion_matrix(y_true, y_pred, labels)\n",
    "    precision = np.diag(cm) / np.sum(cm, axis=0)\n",
    "    return np.nanmean(precision)\n",
    "\n",
    "def recall_score(y_true, y_pred, labels):\n",
    "    cm = confusion_matrix(y_true, y_pred, labels)\n",
    "    recall = np.diag(cm) / np.sum(cm, axis=1)\n",
    "    return np.nanmean(recall)\n",
    "\n",
    "def f1_score(y_true, y_pred, labels):\n",
    "    precision = precision_score(y_true, y_pred, labels)\n",
    "    recall = recall_score(y_true, y_pred, labels)\n",
    "    return 2 * (precision * recall) / (precision + recall)\n",
    "\n",
    "labels = np.unique(y_train)\n",
    "precision = precision_score(y_test, y_pred, labels)\n",
    "recall = recall_score(y_test, y_pred, labels)\n",
    "f1 = f1_score(y_test, y_pred, labels)\n",
    "\n",
    "print(f\"Precision: {precision:.2f}\")\n",
    "print(f\"Recall: {recall:.2f}\")\n",
    "print(f\"F1 Score: {f1:.2f}\")"
   ]
  },
  {
   "cell_type": "code",
   "execution_count": null,
   "id": "1c176bd9",
   "metadata": {},
   "outputs": [],
   "source": []
  }
 ],
 "metadata": {
  "kernelspec": {
   "display_name": "Python 3 (ipykernel)",
   "language": "python",
   "name": "python3"
  },
  "language_info": {
   "codemirror_mode": {
    "name": "ipython",
    "version": 3
   },
   "file_extension": ".py",
   "mimetype": "text/x-python",
   "name": "python",
   "nbconvert_exporter": "python",
   "pygments_lexer": "ipython3",
   "version": "3.10.13"
  }
 },
 "nbformat": 4,
 "nbformat_minor": 5
}
