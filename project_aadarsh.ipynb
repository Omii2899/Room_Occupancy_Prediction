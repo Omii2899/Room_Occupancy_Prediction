{
 "cells": [
  {
   "metadata": {
    "ExecuteTime": {
     "end_time": "2024-04-17T20:43:21.409567Z",
     "start_time": "2024-04-17T20:43:20.194921Z"
    }
   },
   "cell_type": "code",
   "source": [
    "!pip install ucimlrepo\n",
    "import numpy as np\n",
    "from tqdm import tqdm\n",
    "from ucimlrepo import fetch_ucirepo \n",
    "import pandas as pd\n",
    "from sklearn.model_selection import train_test_split"
   ],
   "id": "39513c1e35caf7f9",
   "outputs": [
    {
     "name": "stdout",
     "output_type": "stream",
     "text": [
      "Requirement already satisfied: ucimlrepo in /Users/omii/anaconda3/envs/Lab_1_7300/lib/python3.10/site-packages (0.0.6)\r\n"
     ]
    }
   ],
   "execution_count": 1
  },
  {
   "metadata": {
    "ExecuteTime": {
     "end_time": "2024-04-17T23:37:16.013399Z",
     "start_time": "2024-04-17T23:37:15.997465Z"
    }
   },
   "cell_type": "code",
   "source": [
    "class LogisticRegression:\n",
    "    \"\"\"\n",
    "    Logistic Regression Class\n",
    "\n",
    "    Attributes\n",
    "    __________\n",
    "    iterations : number of iterations used for gradient descent to find optimal weights,\n",
    "    learning_rate : learning rate used for gradient descent(alpha),\n",
    "    tolerance : tolerance used for gradient descent convergence of difference in weights,\n",
    "    regularization_parameter : regularization parameter(lambda), Default = 0,\n",
    "    weights : weights of the model after fitting,\n",
    "    errors : errors of the model in each iteration of gradient descent\n",
    "\n",
    "    Methods\n",
    "    _______\n",
    "    fit(X_train, y_train) : train model on training set\n",
    "    predict(X_test) : predict the test data using fitted model weights,\n",
    "    evaluate(X_test,y_test) : predict the test data using fitted model weights and get evaluation results Accuracy,\n",
    "    Recall, F1 Score, Precision\n",
    "    \"\"\"\n",
    "    def __init__(self, iterations, learning_rate, tolerance):\n",
    "        self.errors = None\n",
    "        self.prev_cost = None\n",
    "        self.cost = None\n",
    "        self.mean = None\n",
    "        self.std = None\n",
    "        self.X_train = None\n",
    "        self.X_test = None\n",
    "        self.y_test = None\n",
    "        self.y_train = None\n",
    "        self.weights = None\n",
    "        self.iterations = iterations\n",
    "        self.learning_rate = learning_rate\n",
    "        self.tolerance = tolerance\n",
    "\n",
    "    @staticmethod\n",
    "    def sigmoid(x):\n",
    "        \"\"\"\n",
    "        Sigmoid function\n",
    "        :param x: input numpy array\n",
    "        :return: sigmoid(x)\n",
    "        \"\"\"\n",
    "        return 1 / (1 + np.exp(-x))\n",
    "\n",
    "    def gradient_calculation(self):\n",
    "        \"\"\"\n",
    "        Calculates the gradient of the logistic regression model's loss function with respect to the model's weights.\n",
    "        The gradient calculation formula is:\n",
    "\n",
    "        ∇(loss) = X.T * (y_pred - y)\n",
    "        :return:\n",
    "        numpy.ndarray: A gradient vector where each element is the partial\n",
    "                       derivative of the loss function with respect to the\n",
    "                       corresponding weight.\n",
    "        \"\"\"\n",
    "        y_pred = self.sigmoid(np.matmul(self.X_train, self.weights))\n",
    "        return self.X_train.T.dot(y_pred - self.y_train)\n",
    "\n",
    "    def cost_function(self):\n",
    "        \"\"\"\n",
    "        Computes the cost for a logistic regression model using cross-entropy loss\n",
    "        and adds regularization penalty if applicable.\n",
    "\n",
    "        The cost function is defined as:\n",
    "\n",
    "            L = -sum(y * log(y_pred) + (1 - y) * log(1 - y_pred)) \n",
    "\n",
    "        where:\n",
    "        - y is the vector of actual class labels,\n",
    "        - y_pred is the vector of predicted probabilities, computed as sigmoid(X * w),\n",
    "       \n",
    "\n",
    "        Returns:\n",
    "            float: The computed cost value.\n",
    "        \"\"\"\n",
    "        \n",
    "        y_pred = self.sigmoid(np.matmul(self.X_train, self.weights))\n",
    "        cost = self.y_train * np.log(y_pred) + (1 - self.y_train) * np.log(1 - y_pred)\n",
    "        cost = -np.sum(cost) \n",
    "        return cost\n",
    "\n",
    "    def gradient_descent(self):\n",
    "        \"\"\"\n",
    "        Performs gradient descent optimization to find the optimal weights of the logistic regression model.\n",
    "\n",
    "        The method iteratively updates the weights by moving in the direction of the negative gradient of the cost function, adjusted by the learning rate.\n",
    "\n",
    "        Weight update formulas:\n",
    "        - w = w - learning_rate * ∇(loss)\n",
    "      \n",
    "        The process continues for a specified number of iterations or until the improvement in cost is less than a defined tolerance, indicating convergence.\n",
    "\n",
    "        Attributes updated during optimization:\n",
    "        - self.weights: The weights vector of the model.\n",
    "        - self.errors: A list of cost values at each iteration, tracking how the cost changes.\n",
    "\n",
    "        Side effects:\n",
    "        - If the change in cost between iterations is less than the tolerance, it prints a message and stops further updates.\n",
    "\n",
    "        \"\"\"\n",
    "        self.errors = []\n",
    "        self.weights = np.zeros(shape=(self.X_train.shape[1]))\n",
    "        self.prev_cost = np.inf\n",
    "        for i in tqdm(range(self.iterations), colour='WHITE'):\n",
    "            self.weights -= (self.learning_rate * self.gradient_calculation())\n",
    "            self.cost = self.cost_function()\n",
    "            self.errors.append(self.cost)\n",
    "            if self.prev_cost - self.cost <= self.tolerance:\n",
    "                print('Model has stopped improving')\n",
    "                break\n",
    "            self.prev_cost = self.cost\n",
    "\n",
    "    def fit(self, X_train, y_train):\n",
    "        \"\"\"\n",
    "        Fits the logistic regression model to the training data using gradient descent.\n",
    "\n",
    "        This method initializes the training process by setting the training data and target labels,\n",
    "        and then calls the `gradient_descent` method to optimize the model's weights.\n",
    "\n",
    "        Parameters:\n",
    "            X_train (array-like): The input features of the training data.\n",
    "            y_train (array-like): The target labels corresponding to the input features.\n",
    "\n",
    "        The training process involves:\n",
    "        - Storing the training data (`X_train`) and labels (`y_train`) in the instance variables.\n",
    "        - Calling the `gradient_descent` method to adjust the weights based on the loss gradient.\n",
    "\n",
    "        Note:\n",
    "        - The shape of `X_train` should match the expected number of features.\n",
    "        - The shape of `y_train` should correspond to the number of samples in `X_train`.\n",
    "        \"\"\"\n",
    "\n",
    "        self.X_train = X_train\n",
    "        self.y_train = y_train\n",
    "        self.gradient_descent()\n",
    "\n",
    "    def predict(self, X_test):\n",
    "        \"\"\"\n",
    "        Predicts class labels for given input samples using the trained logistic regression model.\n",
    "\n",
    "        This method computes predictions by applying the sigmoid function to the linear combination\n",
    "        of input features and the learned weights. The output of the sigmoid function represents\n",
    "        the probability of the input belonging to the positive class, which is then threshold at 0.5\n",
    "        to produce binary class labels.\n",
    "\n",
    "        Parameters:\n",
    "            X_test (array-like): The input features of the test data.\n",
    "\n",
    "        Returns:\n",
    "            numpy.ndarray: An array of predicted class labels (0 or 1) for each input sample.\n",
    "\n",
    "        The prediction is calculated as follows:\n",
    "        - Apply the sigmoid function to (X_test * weights) to get the probability of the positive class.\n",
    "        - Threshold the probabilities at 0.5 to determine the class labels.\n",
    "        \"\"\"\n",
    "        predictions = self.sigmoid(np.matmul(X_test, self.weights))\n",
    "        return np.round(predictions)\n",
    "\n",
    "    def evaluate(self, X_test, y_test):\n",
    "        \"\"\"\n",
    "        Evaluates the performance of the logistic regression model on a test dataset.\n",
    "\n",
    "        This method uses the model's predictions to calculate key classification metrics:\n",
    "        accuracy, precision, recall, and F1-score. These metrics provide insights into the\n",
    "        effectiveness of the model in classifying positive and negative classes.\n",
    "\n",
    "        Parameters:\n",
    "            X_test (array-like): The input features of the test data.\n",
    "            y_test (array-like): The actual class labels for the test data.\n",
    "\n",
    "        The evaluation metrics are calculated as follows:\n",
    "        - True Positives (TP): Correct positive predictions.\n",
    "        - False Positives (FP): Incorrect positive predictions.\n",
    "        - True Negatives (TN): Correct negative predictions.\n",
    "        - False Negatives (FN): Incorrect negative predictions.\n",
    "\n",
    "        Formulas:\n",
    "        - Accuracy = TP / (TP + FP)\n",
    "        - Recall = TP / (TP + FN)\n",
    "        - Precision = TP / (TP + FP)\n",
    "        - F1-score = 2 * (Precision * Recall) / (Precision + Recall)\n",
    "\n",
    "        Side effects:\n",
    "        - Prints the calculated metrics: Accuracy, Recall, Precision, and F1-score.\n",
    "        \"\"\"\n",
    "        y_predicted = self.predict(X_test)\n",
    "        true_positives = np.sum(y_predicted * y_test)\n",
    "        false_positive = np.sum(y_predicted * (1 - y_test))\n",
    "        true_negative = np.sum((y_predicted == 0) & (y_test == 0))\n",
    "        false_negative = np.sum((y_predicted == 0) & (y_test == 1))\n",
    "\n",
    "        accuracy = true_positives / (true_positives + false_positive)\n",
    "        recall = true_positives / (true_positives + false_negative)\n",
    "        precision = true_positives / (true_positives + false_positive)\n",
    "        f1_score = 2 * (precision * recall) / (precision + recall)\n",
    "\n",
    "        print('Accuracy: ', accuracy)\n",
    "        print('Recall: ', recall)\n",
    "        print('Precision: ', precision)\n",
    "        print('F1-score: ', f1_score)\n"
   ],
   "id": "32696b72573f648f",
   "outputs": [],
   "execution_count": 93
  },
  {
   "metadata": {
    "ExecuteTime": {
     "end_time": "2024-04-17T23:37:19.156777Z",
     "start_time": "2024-04-17T23:37:16.331838Z"
    }
   },
   "cell_type": "code",
   "source": [
    "# fetch dataset \n",
    "room_occupancy_estimation = fetch_ucirepo(id=864) \n",
    "  \n",
    "# data (as pandas dataframes) \n",
    "X = room_occupancy_estimation.data.features \n",
    "y = room_occupancy_estimation.data.targets\n"
   ],
   "id": "95abfa11443dc324",
   "outputs": [],
   "execution_count": 94
  },
  {
   "metadata": {
    "ExecuteTime": {
     "end_time": "2024-04-17T23:37:20.456521Z",
     "start_time": "2024-04-17T23:37:20.405491Z"
    }
   },
   "cell_type": "code",
   "source": [
    "X.loc[:,'Date'] = pd.to_datetime(X.loc[:,'Date'])\n",
    "X.loc[:,'Time'] = pd.to_timedelta(X.loc[:,'Time'])\n",
    "Z = pd.DataFrame()"
   ],
   "id": "217c1e435b5fed7",
   "outputs": [],
   "execution_count": 95
  },
  {
   "metadata": {
    "ExecuteTime": {
     "end_time": "2024-04-17T23:37:21.126792Z",
     "start_time": "2024-04-17T23:37:21.109420Z"
    }
   },
   "cell_type": "code",
   "source": "X",
   "id": "65dc0fbe118fd1e6",
   "outputs": [
    {
     "data": {
      "text/plain": [
       "                      Date             Time  S1_Temp  S2_Temp  S3_Temp  \\\n",
       "0      2017-12-22 00:00:00  0 days 10:49:41    24.94    24.75    24.56   \n",
       "1      2017-12-22 00:00:00  0 days 10:50:12    24.94    24.75    24.56   \n",
       "2      2017-12-22 00:00:00  0 days 10:50:42    25.00    24.75    24.50   \n",
       "3      2017-12-22 00:00:00  0 days 10:51:13    25.00    24.75    24.56   \n",
       "4      2017-12-22 00:00:00  0 days 10:51:44    25.00    24.75    24.56   \n",
       "...                    ...              ...      ...      ...      ...   \n",
       "10124  2018-01-11 00:00:00  0 days 08:58:07    25.06    25.13    24.69   \n",
       "10125  2018-01-11 00:00:00  0 days 08:58:37    25.06    25.06    24.69   \n",
       "10126  2018-01-11 00:00:00  0 days 08:59:08    25.13    25.06    24.69   \n",
       "10127  2018-01-11 00:00:00  0 days 08:59:39    25.13    25.06    24.69   \n",
       "10128  2018-01-11 00:00:00  0 days 09:00:09    25.13    25.06    24.69   \n",
       "\n",
       "       S4_Temp  S1_Light  S2_Light  S3_Light  S4_Light  S1_Sound  S2_Sound  \\\n",
       "0        25.38       121        34        53        40      0.08      0.19   \n",
       "1        25.44       121        33        53        40      0.93      0.05   \n",
       "2        25.44       121        34        53        40      0.43      0.11   \n",
       "3        25.44       121        34        53        40      0.41      0.10   \n",
       "4        25.44       121        34        54        40      0.18      0.06   \n",
       "...        ...       ...       ...       ...       ...       ...       ...   \n",
       "10124    25.31         6         7        33        22      0.09      0.04   \n",
       "10125    25.25         6         7        34        22      0.07      0.05   \n",
       "10126    25.25         6         7        34        22      0.11      0.05   \n",
       "10127    25.25         6         7        34        22      0.08      0.08   \n",
       "10128    25.25         6         7        34        22      0.08      0.05   \n",
       "\n",
       "       S3_Sound  S4_Sound  S5_CO2  S5_CO2_Slope  S6_PIR  S7_PIR  \n",
       "0          0.06      0.06     390      0.769231       0       0  \n",
       "1          0.06      0.06     390      0.646154       0       0  \n",
       "2          0.08      0.06     390      0.519231       0       0  \n",
       "3          0.10      0.09     390      0.388462       0       0  \n",
       "4          0.06      0.06     390      0.253846       0       0  \n",
       "...         ...       ...     ...           ...     ...     ...  \n",
       "10124      0.06      0.08     345      0.000000       0       0  \n",
       "10125      0.05      0.08     345      0.000000       0       0  \n",
       "10126      0.06      0.08     345      0.000000       0       0  \n",
       "10127      0.10      0.08     345      0.000000       0       0  \n",
       "10128      0.06      0.08     345      0.000000       0       0  \n",
       "\n",
       "[10129 rows x 18 columns]"
      ],
      "text/html": [
       "<div>\n",
       "<style scoped>\n",
       "    .dataframe tbody tr th:only-of-type {\n",
       "        vertical-align: middle;\n",
       "    }\n",
       "\n",
       "    .dataframe tbody tr th {\n",
       "        vertical-align: top;\n",
       "    }\n",
       "\n",
       "    .dataframe thead th {\n",
       "        text-align: right;\n",
       "    }\n",
       "</style>\n",
       "<table border=\"1\" class=\"dataframe\">\n",
       "  <thead>\n",
       "    <tr style=\"text-align: right;\">\n",
       "      <th></th>\n",
       "      <th>Date</th>\n",
       "      <th>Time</th>\n",
       "      <th>S1_Temp</th>\n",
       "      <th>S2_Temp</th>\n",
       "      <th>S3_Temp</th>\n",
       "      <th>S4_Temp</th>\n",
       "      <th>S1_Light</th>\n",
       "      <th>S2_Light</th>\n",
       "      <th>S3_Light</th>\n",
       "      <th>S4_Light</th>\n",
       "      <th>S1_Sound</th>\n",
       "      <th>S2_Sound</th>\n",
       "      <th>S3_Sound</th>\n",
       "      <th>S4_Sound</th>\n",
       "      <th>S5_CO2</th>\n",
       "      <th>S5_CO2_Slope</th>\n",
       "      <th>S6_PIR</th>\n",
       "      <th>S7_PIR</th>\n",
       "    </tr>\n",
       "  </thead>\n",
       "  <tbody>\n",
       "    <tr>\n",
       "      <th>0</th>\n",
       "      <td>2017-12-22 00:00:00</td>\n",
       "      <td>0 days 10:49:41</td>\n",
       "      <td>24.94</td>\n",
       "      <td>24.75</td>\n",
       "      <td>24.56</td>\n",
       "      <td>25.38</td>\n",
       "      <td>121</td>\n",
       "      <td>34</td>\n",
       "      <td>53</td>\n",
       "      <td>40</td>\n",
       "      <td>0.08</td>\n",
       "      <td>0.19</td>\n",
       "      <td>0.06</td>\n",
       "      <td>0.06</td>\n",
       "      <td>390</td>\n",
       "      <td>0.769231</td>\n",
       "      <td>0</td>\n",
       "      <td>0</td>\n",
       "    </tr>\n",
       "    <tr>\n",
       "      <th>1</th>\n",
       "      <td>2017-12-22 00:00:00</td>\n",
       "      <td>0 days 10:50:12</td>\n",
       "      <td>24.94</td>\n",
       "      <td>24.75</td>\n",
       "      <td>24.56</td>\n",
       "      <td>25.44</td>\n",
       "      <td>121</td>\n",
       "      <td>33</td>\n",
       "      <td>53</td>\n",
       "      <td>40</td>\n",
       "      <td>0.93</td>\n",
       "      <td>0.05</td>\n",
       "      <td>0.06</td>\n",
       "      <td>0.06</td>\n",
       "      <td>390</td>\n",
       "      <td>0.646154</td>\n",
       "      <td>0</td>\n",
       "      <td>0</td>\n",
       "    </tr>\n",
       "    <tr>\n",
       "      <th>2</th>\n",
       "      <td>2017-12-22 00:00:00</td>\n",
       "      <td>0 days 10:50:42</td>\n",
       "      <td>25.00</td>\n",
       "      <td>24.75</td>\n",
       "      <td>24.50</td>\n",
       "      <td>25.44</td>\n",
       "      <td>121</td>\n",
       "      <td>34</td>\n",
       "      <td>53</td>\n",
       "      <td>40</td>\n",
       "      <td>0.43</td>\n",
       "      <td>0.11</td>\n",
       "      <td>0.08</td>\n",
       "      <td>0.06</td>\n",
       "      <td>390</td>\n",
       "      <td>0.519231</td>\n",
       "      <td>0</td>\n",
       "      <td>0</td>\n",
       "    </tr>\n",
       "    <tr>\n",
       "      <th>3</th>\n",
       "      <td>2017-12-22 00:00:00</td>\n",
       "      <td>0 days 10:51:13</td>\n",
       "      <td>25.00</td>\n",
       "      <td>24.75</td>\n",
       "      <td>24.56</td>\n",
       "      <td>25.44</td>\n",
       "      <td>121</td>\n",
       "      <td>34</td>\n",
       "      <td>53</td>\n",
       "      <td>40</td>\n",
       "      <td>0.41</td>\n",
       "      <td>0.10</td>\n",
       "      <td>0.10</td>\n",
       "      <td>0.09</td>\n",
       "      <td>390</td>\n",
       "      <td>0.388462</td>\n",
       "      <td>0</td>\n",
       "      <td>0</td>\n",
       "    </tr>\n",
       "    <tr>\n",
       "      <th>4</th>\n",
       "      <td>2017-12-22 00:00:00</td>\n",
       "      <td>0 days 10:51:44</td>\n",
       "      <td>25.00</td>\n",
       "      <td>24.75</td>\n",
       "      <td>24.56</td>\n",
       "      <td>25.44</td>\n",
       "      <td>121</td>\n",
       "      <td>34</td>\n",
       "      <td>54</td>\n",
       "      <td>40</td>\n",
       "      <td>0.18</td>\n",
       "      <td>0.06</td>\n",
       "      <td>0.06</td>\n",
       "      <td>0.06</td>\n",
       "      <td>390</td>\n",
       "      <td>0.253846</td>\n",
       "      <td>0</td>\n",
       "      <td>0</td>\n",
       "    </tr>\n",
       "    <tr>\n",
       "      <th>...</th>\n",
       "      <td>...</td>\n",
       "      <td>...</td>\n",
       "      <td>...</td>\n",
       "      <td>...</td>\n",
       "      <td>...</td>\n",
       "      <td>...</td>\n",
       "      <td>...</td>\n",
       "      <td>...</td>\n",
       "      <td>...</td>\n",
       "      <td>...</td>\n",
       "      <td>...</td>\n",
       "      <td>...</td>\n",
       "      <td>...</td>\n",
       "      <td>...</td>\n",
       "      <td>...</td>\n",
       "      <td>...</td>\n",
       "      <td>...</td>\n",
       "      <td>...</td>\n",
       "    </tr>\n",
       "    <tr>\n",
       "      <th>10124</th>\n",
       "      <td>2018-01-11 00:00:00</td>\n",
       "      <td>0 days 08:58:07</td>\n",
       "      <td>25.06</td>\n",
       "      <td>25.13</td>\n",
       "      <td>24.69</td>\n",
       "      <td>25.31</td>\n",
       "      <td>6</td>\n",
       "      <td>7</td>\n",
       "      <td>33</td>\n",
       "      <td>22</td>\n",
       "      <td>0.09</td>\n",
       "      <td>0.04</td>\n",
       "      <td>0.06</td>\n",
       "      <td>0.08</td>\n",
       "      <td>345</td>\n",
       "      <td>0.000000</td>\n",
       "      <td>0</td>\n",
       "      <td>0</td>\n",
       "    </tr>\n",
       "    <tr>\n",
       "      <th>10125</th>\n",
       "      <td>2018-01-11 00:00:00</td>\n",
       "      <td>0 days 08:58:37</td>\n",
       "      <td>25.06</td>\n",
       "      <td>25.06</td>\n",
       "      <td>24.69</td>\n",
       "      <td>25.25</td>\n",
       "      <td>6</td>\n",
       "      <td>7</td>\n",
       "      <td>34</td>\n",
       "      <td>22</td>\n",
       "      <td>0.07</td>\n",
       "      <td>0.05</td>\n",
       "      <td>0.05</td>\n",
       "      <td>0.08</td>\n",
       "      <td>345</td>\n",
       "      <td>0.000000</td>\n",
       "      <td>0</td>\n",
       "      <td>0</td>\n",
       "    </tr>\n",
       "    <tr>\n",
       "      <th>10126</th>\n",
       "      <td>2018-01-11 00:00:00</td>\n",
       "      <td>0 days 08:59:08</td>\n",
       "      <td>25.13</td>\n",
       "      <td>25.06</td>\n",
       "      <td>24.69</td>\n",
       "      <td>25.25</td>\n",
       "      <td>6</td>\n",
       "      <td>7</td>\n",
       "      <td>34</td>\n",
       "      <td>22</td>\n",
       "      <td>0.11</td>\n",
       "      <td>0.05</td>\n",
       "      <td>0.06</td>\n",
       "      <td>0.08</td>\n",
       "      <td>345</td>\n",
       "      <td>0.000000</td>\n",
       "      <td>0</td>\n",
       "      <td>0</td>\n",
       "    </tr>\n",
       "    <tr>\n",
       "      <th>10127</th>\n",
       "      <td>2018-01-11 00:00:00</td>\n",
       "      <td>0 days 08:59:39</td>\n",
       "      <td>25.13</td>\n",
       "      <td>25.06</td>\n",
       "      <td>24.69</td>\n",
       "      <td>25.25</td>\n",
       "      <td>6</td>\n",
       "      <td>7</td>\n",
       "      <td>34</td>\n",
       "      <td>22</td>\n",
       "      <td>0.08</td>\n",
       "      <td>0.08</td>\n",
       "      <td>0.10</td>\n",
       "      <td>0.08</td>\n",
       "      <td>345</td>\n",
       "      <td>0.000000</td>\n",
       "      <td>0</td>\n",
       "      <td>0</td>\n",
       "    </tr>\n",
       "    <tr>\n",
       "      <th>10128</th>\n",
       "      <td>2018-01-11 00:00:00</td>\n",
       "      <td>0 days 09:00:09</td>\n",
       "      <td>25.13</td>\n",
       "      <td>25.06</td>\n",
       "      <td>24.69</td>\n",
       "      <td>25.25</td>\n",
       "      <td>6</td>\n",
       "      <td>7</td>\n",
       "      <td>34</td>\n",
       "      <td>22</td>\n",
       "      <td>0.08</td>\n",
       "      <td>0.05</td>\n",
       "      <td>0.06</td>\n",
       "      <td>0.08</td>\n",
       "      <td>345</td>\n",
       "      <td>0.000000</td>\n",
       "      <td>0</td>\n",
       "      <td>0</td>\n",
       "    </tr>\n",
       "  </tbody>\n",
       "</table>\n",
       "<p>10129 rows × 18 columns</p>\n",
       "</div>"
      ]
     },
     "execution_count": 96,
     "metadata": {},
     "output_type": "execute_result"
    }
   ],
   "execution_count": 96
  },
  {
   "metadata": {
    "ExecuteTime": {
     "end_time": "2024-04-17T23:37:22.011751Z",
     "start_time": "2024-04-17T23:37:22.000699Z"
    }
   },
   "cell_type": "code",
   "source": [
    "y = np.array(y.loc[:,'Room_Occupancy_Count'])\n",
    "X = X[['S1_Temp', 'S2_Temp', 'S3_Temp', 'S4_Temp', 'S1_Light',\n",
    "       'S2_Light', 'S3_Light', 'S4_Light', 'S1_Sound', 'S2_Sound', 'S3_Sound',\n",
    "       'S4_Sound', 'S5_CO2', 'S5_CO2_Slope', 'S6_PIR', 'S7_PIR']]\n",
    "mean = np.mean(X, axis=0)\n",
    "std = np.std(X, axis=0)\n",
    "X = (X - mean) / std\n",
    "X = np.array(X)"
   ],
   "id": "8994a5f59ab28886",
   "outputs": [],
   "execution_count": 97
  },
  {
   "metadata": {
    "ExecuteTime": {
     "end_time": "2024-04-17T23:37:23.106769Z",
     "start_time": "2024-04-17T23:37:23.101671Z"
    }
   },
   "cell_type": "code",
   "source": "X",
   "id": "88870a8b7cba2ea5",
   "outputs": [
    {
     "data": {
      "text/plain": [
       "array([[-1.46303347, -1.35777517, -1.16233429, ...,  0.66446859,\n",
       "        -0.31474885, -0.29402867],\n",
       "       [-1.46303347, -1.35777517, -1.16233429, ...,  0.558817  ,\n",
       "        -0.31474885, -0.29402867],\n",
       "       [-1.29225542, -1.35777517, -1.30276354, ...,  0.4498638 ,\n",
       "        -0.31474885, -0.29402867],\n",
       "       ...,\n",
       "       [-0.92223631, -0.82903247, -0.85807092, ...,  0.00414617,\n",
       "        -0.31474885, -0.29402867],\n",
       "       [-0.92223631, -0.82903247, -0.85807092, ...,  0.00414617,\n",
       "        -0.31474885, -0.29402867],\n",
       "       [-0.92223631, -0.82903247, -0.85807092, ...,  0.00414617,\n",
       "        -0.31474885, -0.29402867]])"
      ]
     },
     "execution_count": 98,
     "metadata": {},
     "output_type": "execute_result"
    }
   ],
   "execution_count": 98
  },
  {
   "metadata": {
    "ExecuteTime": {
     "end_time": "2024-04-17T23:37:33.521917Z",
     "start_time": "2024-04-17T23:37:33.516551Z"
    }
   },
   "cell_type": "code",
   "source": "y",
   "id": "fff1c9ab76a43bf8",
   "outputs": [
    {
     "data": {
      "text/plain": [
       "array([1, 1, 1, ..., 0, 0, 0])"
      ]
     },
     "execution_count": 99,
     "metadata": {},
     "output_type": "execute_result"
    }
   ],
   "execution_count": 99
  },
  {
   "metadata": {
    "ExecuteTime": {
     "end_time": "2024-04-17T23:56:27.116009Z",
     "start_time": "2024-04-17T23:56:27.113001Z"
    }
   },
   "cell_type": "code",
   "source": "np.sum(y == 3)",
   "id": "8bfcec1c8f7263b1",
   "outputs": [
    {
     "data": {
      "text/plain": [
       "694"
      ]
     },
     "execution_count": 105,
     "metadata": {},
     "output_type": "execute_result"
    }
   ],
   "execution_count": 105
  },
  {
   "metadata": {
    "ExecuteTime": {
     "end_time": "2024-04-17T23:37:53.372292Z",
     "start_time": "2024-04-17T23:37:53.366726Z"
    }
   },
   "cell_type": "code",
   "source": "X",
   "id": "9d03b8fc69b62ef2",
   "outputs": [
    {
     "data": {
      "text/plain": [
       "array([[-1.46303347, -1.35777517, -1.16233429, ...,  0.66446859,\n",
       "        -0.31474885, -0.29402867],\n",
       "       [-1.46303347, -1.35777517, -1.16233429, ...,  0.558817  ,\n",
       "        -0.31474885, -0.29402867],\n",
       "       [-1.29225542, -1.35777517, -1.30276354, ...,  0.4498638 ,\n",
       "        -0.31474885, -0.29402867],\n",
       "       ...,\n",
       "       [-0.92223631, -0.82903247, -0.85807092, ...,  0.00414617,\n",
       "        -0.31474885, -0.29402867],\n",
       "       [-0.92223631, -0.82903247, -0.85807092, ...,  0.00414617,\n",
       "        -0.31474885, -0.29402867],\n",
       "       [-0.92223631, -0.82903247, -0.85807092, ...,  0.00414617,\n",
       "        -0.31474885, -0.29402867]])"
      ]
     },
     "execution_count": 100,
     "metadata": {},
     "output_type": "execute_result"
    }
   ],
   "execution_count": 100
  },
  {
   "metadata": {
    "ExecuteTime": {
     "end_time": "2024-04-17T23:58:49.287317Z",
     "start_time": "2024-04-17T23:58:49.281375Z"
    }
   },
   "cell_type": "code",
   "source": [
    "class OnevAll():\n",
    "    \n",
    "    def __init__(self, X, y):\n",
    "        self.X = X\n",
    "        self.y = y\n",
    "        self.logistic_regression_weights = {} \n",
    "        \n",
    "    def implement_logistic_get_weights(self):\n",
    "        logistic_object =  LogisticRegression(iterations=50000, learning_rate=0.0001, tolerance=0.0005)\n",
    "        logistic_object.fit(self.X_train, self.y_train)\n",
    "        return logistic_object.weights\n",
    "   \n",
    "    def implement_logistic(self):\n",
    "        self.unique_y = np.unique(self.y)\n",
    "        for unique in self.unique_y:\n",
    "            self.y = np.where(self.y == unique, 1, 0)\n",
    "            self.X_train, self.X_test, self.y_train, self.y_test = train_test_split(self.X, self.y, test_size=0.2, shuffle=True, stratify=self.y)\n",
    "            self.logistic_regression_weights[unique] = self.implement_logistic_get_weights()\n",
    "        \n",
    "        return self.logistic_regression_weights\n",
    "    "
   ],
   "id": "ecd37f461d6cf985",
   "outputs": [],
   "execution_count": 111
  },
  {
   "metadata": {
    "ExecuteTime": {
     "end_time": "2024-04-17T23:59:20.371303Z",
     "start_time": "2024-04-17T23:58:49.670521Z"
    }
   },
   "cell_type": "code",
   "source": [
    "onevall = OnevAll(X, y)\n",
    "z =onevall.implement_logistic()"
   ],
   "id": "1f440d1a5abffba1",
   "outputs": [
    {
     "name": "stderr",
     "output_type": "stream",
     "text": [
      " 98%|\u001B[37m█████████▊\u001B[0m| 48800/50000 [00:15<00:00, 3165.86it/s]\n"
     ]
    },
    {
     "name": "stdout",
     "output_type": "stream",
     "text": [
      "Model has stopped improving\n"
     ]
    },
    {
     "name": "stderr",
     "output_type": "stream",
     "text": [
      " 97%|\u001B[37m█████████▋\u001B[0m| 48568/50000 [00:15<00:00, 3206.71it/s]\n"
     ]
    },
    {
     "name": "stdout",
     "output_type": "stream",
     "text": [
      "Model has stopped improving\n"
     ]
    },
    {
     "name": "stderr",
     "output_type": "stream",
     "text": [
      "  0%|\u001B[37m          \u001B[0m| 238/50000 [00:00<00:15, 3186.80it/s]\n"
     ]
    },
    {
     "name": "stdout",
     "output_type": "stream",
     "text": [
      "Model has stopped improving\n"
     ]
    },
    {
     "name": "stderr",
     "output_type": "stream",
     "text": [
      "  0%|\u001B[37m          \u001B[0m| 114/50000 [00:00<00:19, 2619.07it/s]"
     ]
    },
    {
     "name": "stdout",
     "output_type": "stream",
     "text": [
      "Model has stopped improving\n"
     ]
    },
    {
     "name": "stderr",
     "output_type": "stream",
     "text": [
      "\n"
     ]
    }
   ],
   "execution_count": 112
  },
  {
   "metadata": {
    "ExecuteTime": {
     "end_time": "2024-04-17T23:56:58.908352Z",
     "start_time": "2024-04-17T23:56:58.904959Z"
    }
   },
   "cell_type": "code",
   "source": "z",
   "id": "c32a21130f40c61b",
   "outputs": [
    {
     "data": {
      "text/plain": [
       "{0: array([-1.26575837,  0.03987283, -4.56872264,  3.37499022, -9.48730324,\n",
       "        -6.71550117, -3.98725568,  3.23132381,  0.12342328, -0.48462689,\n",
       "         0.55926653,  0.35975536,  2.43614809, -2.77757915, -0.4321476 ,\n",
       "        -0.73128358]),\n",
       " 1: array([-1.18271884,  0.55425309, -4.62523292,  3.48707673, -8.55638781,\n",
       "        -7.10701794, -4.42643458,  3.40962668,  0.44476197, -0.34644891,\n",
       "        -0.43819196, -0.16623437,  2.15152104, -3.57682922, -0.26181621,\n",
       "        -0.62678846]),\n",
       " 2: array([-0.01698969, -0.02590143, -0.01542664,  0.03859748,  0.00876585,\n",
       "         0.06827391, -0.06140541, -0.01243823,  0.00762682, -0.01949535,\n",
       "         0.01396406, -0.01170992,  0.01344386,  0.00637472,  0.0099915 ,\n",
       "        -0.00058254]),\n",
       " 3: array([ 2.63321093e-02, -1.19502827e-02, -1.94101205e-02,  1.21190336e-03,\n",
       "         4.56882095e-02, -2.02937429e-02,  5.50958400e-04, -3.94526426e-03,\n",
       "        -8.60485413e-05,  2.33772067e-03,  2.30377528e-02, -9.12886443e-03,\n",
       "        -2.51805473e-02,  2.59340826e-03, -3.03425863e-02,  1.64270498e-02])}"
      ]
     },
     "execution_count": 108,
     "metadata": {},
     "output_type": "execute_result"
    }
   ],
   "execution_count": 108
  },
  {
   "metadata": {
    "ExecuteTime": {
     "end_time": "2024-04-17T23:35:05.500314Z",
     "start_time": "2024-04-17T23:35:05.497590Z"
    }
   },
   "cell_type": "code",
   "source": "X",
   "id": "8345a8c869333b2f",
   "outputs": [
    {
     "data": {
      "text/plain": [
       "array([[-1.46303347, -1.35777517, -1.16233429, ...,  0.66446859,\n",
       "        -0.31474885, -0.29402867],\n",
       "       [-1.46303347, -1.35777517, -1.16233429, ...,  0.558817  ,\n",
       "        -0.31474885, -0.29402867],\n",
       "       [-1.29225542, -1.35777517, -1.30276354, ...,  0.4498638 ,\n",
       "        -0.31474885, -0.29402867],\n",
       "       ...,\n",
       "       [-0.92223631, -0.82903247, -0.85807092, ...,  0.00414617,\n",
       "        -0.31474885, -0.29402867],\n",
       "       [-0.92223631, -0.82903247, -0.85807092, ...,  0.00414617,\n",
       "        -0.31474885, -0.29402867],\n",
       "       [-0.92223631, -0.82903247, -0.85807092, ...,  0.00414617,\n",
       "        -0.31474885, -0.29402867]])"
      ]
     },
     "execution_count": 89,
     "metadata": {},
     "output_type": "execute_result"
    }
   ],
   "execution_count": 89
  },
  {
   "metadata": {
    "ExecuteTime": {
     "end_time": "2024-04-17T13:58:38.815385Z",
     "start_time": "2024-04-17T13:58:38.813503Z"
    }
   },
   "cell_type": "code",
   "source": "",
   "id": "ae8a6174ad692cfd",
   "outputs": [],
   "execution_count": 509
  },
  {
   "metadata": {},
   "cell_type": "code",
   "outputs": [],
   "execution_count": null,
   "source": "",
   "id": "9382668e86d72908"
  },
  {
   "metadata": {},
   "cell_type": "code",
   "outputs": [],
   "execution_count": null,
   "source": "",
   "id": "c247267451f9f69f"
  },
  {
   "metadata": {
    "ExecuteTime": {
     "end_time": "2024-04-17T13:28:22.110484Z",
     "start_time": "2024-04-17T13:28:22.105680Z"
    }
   },
   "cell_type": "code",
   "source": "",
   "id": "a3dee84941685b8",
   "outputs": [],
   "execution_count": 451
  },
  {
   "metadata": {
    "ExecuteTime": {
     "end_time": "2024-04-17T13:46:15.453870Z",
     "start_time": "2024-04-17T13:46:15.448612Z"
    }
   },
   "cell_type": "code",
   "source": [
    "\n",
    "            "
   ],
   "id": "c64ce60a52c72640",
   "outputs": [],
   "execution_count": 472
  },
  {
   "metadata": {
    "ExecuteTime": {
     "end_time": "2024-04-17T13:46:15.724029Z",
     "start_time": "2024-04-17T13:46:15.720737Z"
    }
   },
   "cell_type": "code",
   "source": "",
   "id": "e3c739d6c46b45a3",
   "outputs": [],
   "execution_count": 473
  },
  {
   "metadata": {
    "ExecuteTime": {
     "end_time": "2024-04-17T13:46:16.019322Z",
     "start_time": "2024-04-17T13:46:16.014769Z"
    }
   },
   "cell_type": "code",
   "source": "",
   "id": "ed0855de09bfda83",
   "outputs": [
    {
     "name": "stdout",
     "output_type": "stream",
     "text": [
      "[0 1]\n"
     ]
    }
   ],
   "execution_count": 474
  },
  {
   "metadata": {},
   "cell_type": "code",
   "outputs": [],
   "execution_count": null,
   "source": "",
   "id": "7f97a25be0edabad"
  }
 ],
 "metadata": {
  "kernelspec": {
   "display_name": "Python 3",
   "language": "python",
   "name": "python3"
  },
  "language_info": {
   "codemirror_mode": {
    "name": "ipython",
    "version": 2
   },
   "file_extension": ".py",
   "mimetype": "text/x-python",
   "name": "python",
   "nbconvert_exporter": "python",
   "pygments_lexer": "ipython2",
   "version": "2.7.6"
  }
 },
 "nbformat": 4,
 "nbformat_minor": 5
}
