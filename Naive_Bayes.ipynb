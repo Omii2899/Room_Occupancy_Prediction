{
 "cells": [
  {
   "cell_type": "code",
   "execution_count": 78,
   "id": "2e40a0c7",
   "metadata": {},
   "outputs": [],
   "source": [
    "import pandas as pd\n",
    "import numpy as np\n",
    "import seaborn as sns\n",
    "import matplotlib.pyplot as plt"
   ]
  },
  {
   "cell_type": "code",
   "execution_count": 79,
   "id": "2392cd73",
   "metadata": {},
   "outputs": [],
   "source": [
    "data_file = 'data/Occupancy_Estimation.csv'"
   ]
  },
  {
   "cell_type": "code",
   "execution_count": 80,
   "id": "ee4b88e6",
   "metadata": {},
   "outputs": [],
   "source": [
    "df = pd.read_csv(data_file)"
   ]
  },
  {
   "cell_type": "code",
   "execution_count": 81,
   "id": "faaa8469",
   "metadata": {},
   "outputs": [
    {
     "data": {
      "text/plain": [
       "(10129, 19)"
      ]
     },
     "execution_count": 81,
     "metadata": {},
     "output_type": "execute_result"
    }
   ],
   "source": [
    "df.shape"
   ]
  },
  {
   "cell_type": "code",
   "execution_count": 82,
   "id": "59abadef",
   "metadata": {},
   "outputs": [],
   "source": [
    "df['Date'] = pd.to_datetime(df['Date'])"
   ]
  },
  {
   "cell_type": "code",
   "execution_count": 83,
   "id": "c2986dae",
   "metadata": {},
   "outputs": [],
   "source": [
    "df[\"Time\"] = pd.to_timedelta(df[\"Time\"])"
   ]
  },
  {
   "cell_type": "code",
   "execution_count": 84,
   "id": "bda8217b",
   "metadata": {},
   "outputs": [
    {
     "data": {
      "text/plain": [
       "Index(['Date', 'Time', 'S1_Temp', 'S2_Temp', 'S3_Temp', 'S4_Temp', 'S1_Light',\n",
       "       'S2_Light', 'S3_Light', 'S4_Light', 'S1_Sound', 'S2_Sound', 'S3_Sound',\n",
       "       'S4_Sound', 'S5_CO2', 'S5_CO2_Slope', 'S6_PIR', 'S7_PIR',\n",
       "       'Room_Occupancy_Count'],\n",
       "      dtype='object')"
      ]
     },
     "execution_count": 84,
     "metadata": {},
     "output_type": "execute_result"
    }
   ],
   "source": [
    "df.columns"
   ]
  },
  {
   "cell_type": "code",
   "execution_count": 85,
   "id": "27a7154d",
   "metadata": {},
   "outputs": [
    {
     "data": {
      "text/plain": [
       "Date                     datetime64[ns]\n",
       "Time                    timedelta64[ns]\n",
       "S1_Temp                         float64\n",
       "S2_Temp                         float64\n",
       "S3_Temp                         float64\n",
       "S4_Temp                         float64\n",
       "S1_Light                          int64\n",
       "S2_Light                          int64\n",
       "S3_Light                          int64\n",
       "S4_Light                          int64\n",
       "S1_Sound                        float64\n",
       "S2_Sound                        float64\n",
       "S3_Sound                        float64\n",
       "S4_Sound                        float64\n",
       "S5_CO2                            int64\n",
       "S5_CO2_Slope                    float64\n",
       "S6_PIR                            int64\n",
       "S7_PIR                            int64\n",
       "Room_Occupancy_Count              int64\n",
       "dtype: object"
      ]
     },
     "execution_count": 85,
     "metadata": {},
     "output_type": "execute_result"
    }
   ],
   "source": [
    "df.dtypes"
   ]
  },
  {
   "cell_type": "code",
   "execution_count": 86,
   "id": "3a8a51c7",
   "metadata": {},
   "outputs": [],
   "source": [
    "DateTime = df[\"Date\"] + df[\"Time\"]"
   ]
  },
  {
   "cell_type": "code",
   "execution_count": 87,
   "id": "5b74843e",
   "metadata": {},
   "outputs": [],
   "source": [
    "df.insert(loc = 0, column = \"Date_Time\", value = DateTime)"
   ]
  },
  {
   "cell_type": "code",
   "execution_count": 88,
   "id": "df159fd1",
   "metadata": {},
   "outputs": [],
   "source": [
    "weekday = df['Date_Time'].dt.weekday + 1"
   ]
  },
  {
   "cell_type": "code",
   "execution_count": 89,
   "id": "56951854",
   "metadata": {},
   "outputs": [],
   "source": [
    "df.insert(loc = 0, column = \"Day of Week\", value = weekday)"
   ]
  },
  {
   "cell_type": "code",
   "execution_count": 90,
   "id": "f48b6277",
   "metadata": {},
   "outputs": [],
   "source": [
    "hourday = df['Date_Time'].dt.hour + 1\n",
    "df.insert(loc = 0, column = \"Hour of Day\", value = hourday)"
   ]
  },
  {
   "cell_type": "code",
   "execution_count": 91,
   "id": "0f548e2f",
   "metadata": {},
   "outputs": [],
   "source": [
    "temp_mean = df.iloc[:,5:9].mean(axis=1)\n",
    "df.insert(loc = 0, column = \"Mean of Temperature\", value = temp_mean)"
   ]
  },
  {
   "cell_type": "code",
   "execution_count": 92,
   "id": "b273a4e9",
   "metadata": {},
   "outputs": [],
   "source": [
    "mean_light = df.iloc[:,9:13].mean(axis=1)\n",
    "df.insert(loc = 0, column = \"Mean of Light\", value = mean_light)"
   ]
  },
  {
   "cell_type": "code",
   "execution_count": 93,
   "id": "24dc64f2",
   "metadata": {},
   "outputs": [],
   "source": [
    "sound_mean = df.iloc[:,13:17].mean(axis=1)\n",
    "df.insert(loc = 0, column = \"Mean of Sound\", value = sound_mean)"
   ]
  },
  {
   "cell_type": "code",
   "execution_count": 94,
   "id": "75e5514f",
   "metadata": {},
   "outputs": [],
   "source": [
    "footsteps_sound = ((df['S1_Sound']+df['S2_Sound']+df['S3_Sound']+df['S4_Sound'])/4)*((df['S6_PIR']+df['S7_PIR']+0.1)/2)\n",
    "df.insert(loc = 16, column = \"Footsteps Sound\", value = footsteps_sound)"
   ]
  },
  {
   "cell_type": "code",
   "execution_count": 95,
   "id": "acec2f16",
   "metadata": {},
   "outputs": [],
   "source": [
    "rolling = df['S5_CO2'].rolling(window=10)\n",
    "rolling_mean = rolling.mean()\n",
    "df.insert(loc = 0, column = \"MA CO2\", value = rolling_mean)"
   ]
  },
  {
   "cell_type": "code",
   "execution_count": 96,
   "id": "1f2d5464",
   "metadata": {},
   "outputs": [],
   "source": [
    "rolling = df['S5_CO2'].rolling(window=10)\n",
    "rolling_variance = rolling.var()\n",
    "df.insert(loc = 0, column = \"MV CO2\", value = rolling_variance)"
   ]
  },
  {
   "cell_type": "code",
   "execution_count": 97,
   "id": "036fd31f",
   "metadata": {},
   "outputs": [
    {
     "data": {
      "text/html": [
       "<div>\n",
       "<style scoped>\n",
       "    .dataframe tbody tr th:only-of-type {\n",
       "        vertical-align: middle;\n",
       "    }\n",
       "\n",
       "    .dataframe tbody tr th {\n",
       "        vertical-align: top;\n",
       "    }\n",
       "\n",
       "    .dataframe thead th {\n",
       "        text-align: right;\n",
       "    }\n",
       "</style>\n",
       "<table border=\"1\" class=\"dataframe\">\n",
       "  <thead>\n",
       "    <tr style=\"text-align: right;\">\n",
       "      <th></th>\n",
       "      <th>MV CO2</th>\n",
       "      <th>MA CO2</th>\n",
       "      <th>Mean of Sound</th>\n",
       "      <th>Mean of Light</th>\n",
       "      <th>Mean of Temperature</th>\n",
       "      <th>Hour of Day</th>\n",
       "      <th>Day of Week</th>\n",
       "      <th>Date_Time</th>\n",
       "      <th>Date</th>\n",
       "      <th>Time</th>\n",
       "      <th>...</th>\n",
       "      <th>Footsteps Sound</th>\n",
       "      <th>S1_Sound</th>\n",
       "      <th>S2_Sound</th>\n",
       "      <th>S3_Sound</th>\n",
       "      <th>S4_Sound</th>\n",
       "      <th>S5_CO2</th>\n",
       "      <th>S5_CO2_Slope</th>\n",
       "      <th>S6_PIR</th>\n",
       "      <th>S7_PIR</th>\n",
       "      <th>Room_Occupancy_Count</th>\n",
       "    </tr>\n",
       "  </thead>\n",
       "  <tbody>\n",
       "    <tr>\n",
       "      <th>0</th>\n",
       "      <td>0.0</td>\n",
       "      <td>390.0</td>\n",
       "      <td>26.1200</td>\n",
       "      <td>54.375</td>\n",
       "      <td>24.9675</td>\n",
       "      <td>11</td>\n",
       "      <td>5</td>\n",
       "      <td>2017-12-22 10:54:17</td>\n",
       "      <td>2017-12-22</td>\n",
       "      <td>0 days 10:54:17</td>\n",
       "      <td>...</td>\n",
       "      <td>1.404375</td>\n",
       "      <td>3.84</td>\n",
       "      <td>0.64</td>\n",
       "      <td>0.48</td>\n",
       "      <td>0.39</td>\n",
       "      <td>390</td>\n",
       "      <td>-0.188462</td>\n",
       "      <td>1</td>\n",
       "      <td>1</td>\n",
       "      <td>1</td>\n",
       "    </tr>\n",
       "    <tr>\n",
       "      <th>1</th>\n",
       "      <td>0.0</td>\n",
       "      <td>390.0</td>\n",
       "      <td>25.6275</td>\n",
       "      <td>59.860</td>\n",
       "      <td>24.9675</td>\n",
       "      <td>11</td>\n",
       "      <td>5</td>\n",
       "      <td>2017-12-22 10:54:47</td>\n",
       "      <td>2017-12-22</td>\n",
       "      <td>0 days 10:54:47</td>\n",
       "      <td>...</td>\n",
       "      <td>0.800625</td>\n",
       "      <td>2.20</td>\n",
       "      <td>0.31</td>\n",
       "      <td>0.33</td>\n",
       "      <td>0.21</td>\n",
       "      <td>390</td>\n",
       "      <td>-0.276923</td>\n",
       "      <td>1</td>\n",
       "      <td>1</td>\n",
       "      <td>1</td>\n",
       "    </tr>\n",
       "    <tr>\n",
       "      <th>2</th>\n",
       "      <td>0.0</td>\n",
       "      <td>390.0</td>\n",
       "      <td>25.3875</td>\n",
       "      <td>60.125</td>\n",
       "      <td>24.9825</td>\n",
       "      <td>11</td>\n",
       "      <td>5</td>\n",
       "      <td>2017-12-22 10:55:18</td>\n",
       "      <td>2017-12-22</td>\n",
       "      <td>0 days 10:55:18</td>\n",
       "      <td>...</td>\n",
       "      <td>0.107250</td>\n",
       "      <td>0.42</td>\n",
       "      <td>0.13</td>\n",
       "      <td>0.14</td>\n",
       "      <td>0.09</td>\n",
       "      <td>390</td>\n",
       "      <td>-0.365385</td>\n",
       "      <td>1</td>\n",
       "      <td>0</td>\n",
       "      <td>1</td>\n",
       "    </tr>\n",
       "    <tr>\n",
       "      <th>3</th>\n",
       "      <td>0.0</td>\n",
       "      <td>390.0</td>\n",
       "      <td>25.0900</td>\n",
       "      <td>60.125</td>\n",
       "      <td>25.0175</td>\n",
       "      <td>11</td>\n",
       "      <td>5</td>\n",
       "      <td>2017-12-22 10:55:49</td>\n",
       "      <td>2017-12-22</td>\n",
       "      <td>0 days 10:55:49</td>\n",
       "      <td>...</td>\n",
       "      <td>0.067375</td>\n",
       "      <td>0.21</td>\n",
       "      <td>0.15</td>\n",
       "      <td>0.07</td>\n",
       "      <td>0.06</td>\n",
       "      <td>390</td>\n",
       "      <td>-0.453846</td>\n",
       "      <td>1</td>\n",
       "      <td>0</td>\n",
       "      <td>1</td>\n",
       "    </tr>\n",
       "    <tr>\n",
       "      <th>4</th>\n",
       "      <td>0.0</td>\n",
       "      <td>390.0</td>\n",
       "      <td>25.7175</td>\n",
       "      <td>60.140</td>\n",
       "      <td>25.0150</td>\n",
       "      <td>11</td>\n",
       "      <td>5</td>\n",
       "      <td>2017-12-22 10:56:19</td>\n",
       "      <td>2017-12-22</td>\n",
       "      <td>0 days 10:56:19</td>\n",
       "      <td>...</td>\n",
       "      <td>0.286000</td>\n",
       "      <td>1.66</td>\n",
       "      <td>0.21</td>\n",
       "      <td>0.12</td>\n",
       "      <td>0.09</td>\n",
       "      <td>390</td>\n",
       "      <td>-0.542308</td>\n",
       "      <td>1</td>\n",
       "      <td>0</td>\n",
       "      <td>1</td>\n",
       "    </tr>\n",
       "  </tbody>\n",
       "</table>\n",
       "<p>5 rows × 28 columns</p>\n",
       "</div>"
      ],
      "text/plain": [
       "   MV CO2  MA CO2  Mean of Sound  Mean of Light  Mean of Temperature  \\\n",
       "0     0.0   390.0        26.1200         54.375              24.9675   \n",
       "1     0.0   390.0        25.6275         59.860              24.9675   \n",
       "2     0.0   390.0        25.3875         60.125              24.9825   \n",
       "3     0.0   390.0        25.0900         60.125              25.0175   \n",
       "4     0.0   390.0        25.7175         60.140              25.0150   \n",
       "\n",
       "   Hour of Day  Day of Week           Date_Time       Date            Time  \\\n",
       "0           11            5 2017-12-22 10:54:17 2017-12-22 0 days 10:54:17   \n",
       "1           11            5 2017-12-22 10:54:47 2017-12-22 0 days 10:54:47   \n",
       "2           11            5 2017-12-22 10:55:18 2017-12-22 0 days 10:55:18   \n",
       "3           11            5 2017-12-22 10:55:49 2017-12-22 0 days 10:55:49   \n",
       "4           11            5 2017-12-22 10:56:19 2017-12-22 0 days 10:56:19   \n",
       "\n",
       "   ...  Footsteps Sound  S1_Sound  S2_Sound  S3_Sound  S4_Sound  S5_CO2  \\\n",
       "0  ...         1.404375      3.84      0.64      0.48      0.39     390   \n",
       "1  ...         0.800625      2.20      0.31      0.33      0.21     390   \n",
       "2  ...         0.107250      0.42      0.13      0.14      0.09     390   \n",
       "3  ...         0.067375      0.21      0.15      0.07      0.06     390   \n",
       "4  ...         0.286000      1.66      0.21      0.12      0.09     390   \n",
       "\n",
       "   S5_CO2_Slope  S6_PIR  S7_PIR  Room_Occupancy_Count  \n",
       "0     -0.188462       1       1                     1  \n",
       "1     -0.276923       1       1                     1  \n",
       "2     -0.365385       1       0                     1  \n",
       "3     -0.453846       1       0                     1  \n",
       "4     -0.542308       1       0                     1  \n",
       "\n",
       "[5 rows x 28 columns]"
      ]
     },
     "execution_count": 97,
     "metadata": {},
     "output_type": "execute_result"
    }
   ],
   "source": [
    "df = df.dropna()\n",
    "df = df.reset_index()\n",
    "df = df.drop(['index'], axis=1)\n",
    "df.head()"
   ]
  },
  {
   "cell_type": "code",
   "execution_count": 98,
   "id": "7add6927",
   "metadata": {},
   "outputs": [],
   "source": [
    "datedata = df.loc[df['Date']=='2017/12/22']"
   ]
  },
  {
   "cell_type": "code",
   "execution_count": 99,
   "id": "530fa80b",
   "metadata": {},
   "outputs": [
    {
     "name": "stdout",
     "output_type": "stream",
     "text": [
      "Index(['MV CO2', 'MA CO2', 'Mean of Sound', 'Mean of Light',\n",
      "       'Mean of Temperature', 'Hour of Day', 'Day of Week', 'Date_Time',\n",
      "       'Date', 'Time', 'S1_Temp', 'S2_Temp', 'S3_Temp', 'S4_Temp', 'S1_Light',\n",
      "       'S2_Light', 'S3_Light', 'S4_Light', 'Footsteps Sound', 'S1_Sound',\n",
      "       'S2_Sound', 'S3_Sound', 'S4_Sound', 'S5_CO2', 'S5_CO2_Slope', 'S6_PIR',\n",
      "       'S7_PIR', 'Room_Occupancy_Count'],\n",
      "      dtype='object')\n"
     ]
    }
   ],
   "source": [
    "print(datedata.columns)"
   ]
  },
  {
   "cell_type": "code",
   "execution_count": 100,
   "id": "b9c86c85",
   "metadata": {},
   "outputs": [
    {
     "data": {
      "image/png": "[encoded data removed]",
      "text/plain": [
       "<Figure size 1200x500 with 1 Axes>"
      ]
     },
     "metadata": {},
     "output_type": "display_data"
    }
   ],
   "source": [
    "plt.figure( figsize = (12, 5)) \n",
    "sns.lineplot(x = 'Time', y = 'Mean of Temperature', data = datedata) \n",
    "plt.xlabel('Time')   \n",
    "plt.ylabel('Temperature')\n",
    "plt.title('Temperature at Different Time of a Day')\n",
    "plt.show()"
   ]
  },
  {
   "cell_type": "code",
   "execution_count": 101,
   "id": "bd61ecd1",
   "metadata": {},
   "outputs": [],
   "source": [
    "train_df = df.sample(frac=0.8, random_state=1)\n",
    "test_df = df.drop(train_df.index)"
   ]
  },
  {
   "cell_type": "code",
   "execution_count": 102,
   "id": "384f2fb5",
   "metadata": {},
   "outputs": [
    {
     "name": "stdout",
     "output_type": "stream",
     "text": [
      "X_train shape is :  (8096, 27)\n",
      "X_test shape  is :  (2024, 27)\n",
      "y_train shape is :  (8096,)\n",
      "y_test shape is :  (2024,)\n"
     ]
    }
   ],
   "source": [
    "features = train_df.columns.drop('Room_Occupancy_Count')\n",
    "X_train = train_df[features].values\n",
    "y_train = train_df['Room_Occupancy_Count'].values\n",
    "X_test = test_df[features].values\n",
    "y_test = test_df['Room_Occupancy_Count'].values\n",
    "print(\"X_train shape is : \", X_train.shape)\n",
    "print(\"X_test shape  is : \", X_test.shape)\n",
    "print(\"y_train shape is : \", y_train.shape)\n",
    "print(\"y_test shape is : \", y_test.shape)"
   ]
  },
  {
   "cell_type": "code",
   "execution_count": 103,
   "id": "48e77d70",
   "metadata": {},
   "outputs": [],
   "source": [
    "classes = np.unique(y_train)\n",
    "prior_probabilities = {cls: np.mean(y_train == cls) for cls in classes}"
   ]
  },
  {
   "cell_type": "code",
   "execution_count": 104,
   "id": "96a02d6d",
   "metadata": {},
   "outputs": [],
   "source": [
    "df['Hour'] = df['Date_Time'].dt.hour\n",
    "df['DayOfWeek'] = df['Date_Time'].dt.dayofweek"
   ]
  },
  {
   "cell_type": "code",
   "execution_count": 105,
   "id": "7b6f76ff",
   "metadata": {},
   "outputs": [],
   "source": [
    "df.drop(['Date_Time', 'Date', 'Time'], axis=1, inplace=True)\n",
    "features = df.columns.drop('Room_Occupancy_Count')  # Assuming 'Room_Occupancy_Count' is the target\n",
    "\n",
    "train_df = df.sample(frac=0.8, random_state=1)\n",
    "test_df = df.drop(train_df.index)\n",
    "\n",
    "X_train = train_df[features].values\n",
    "y_train = train_df['Room_Occupancy_Count'].values\n",
    "X_test = test_df[features].values\n",
    "y_test = test_df['Room_Occupancy_Count'].values"
   ]
  },
  {
   "cell_type": "code",
   "execution_count": 118,
   "id": "0cd74873",
   "metadata": {},
   "outputs": [
    {
     "name": "stderr",
     "output_type": "stream",
     "text": [
      "/var/folders/ss/mk5yhtwj41sf_tlkfkr4n5lh0000gn/T/ipykernel_33518/2239157096.py:46: RuntimeWarning: divide by zero encountered in log\n",
      "  class_probs[cls] += np.log(gaussian_pdf(x[i], mean, variance))\n"
     ]
    }
   ],
   "source": [
    "features = train_df.columns.drop('Room_Occupancy_Count')\n",
    "y_pred = predict(X_test, mean_variance, prior_probabilities, features)"
   ]
  },
  {
   "cell_type": "code",
   "execution_count": 119,
   "id": "eb7c29a1",
   "metadata": {},
   "outputs": [],
   "source": [
    "mean_variance = {}\n",
    "for cls in classes:\n",
    "    features_data = X_train[y_train == cls]\n",
    "    mean_variance[cls] = {\n",
    "        \"mean\": np.mean(features_data, axis=0),\n",
    "        \"variance\": np.var(features_data, axis=0)\n",
    "    }\n",
    "\n",
    "def gaussian_pdf(x, mean, variance):\n",
    "    \"\"\"\n",
    "    Calculate the Gaussian probability density function.\n",
    "\n",
    "    Parameters:\n",
    "        x (float): The point for calculating the probability.\n",
    "        mean (float): The mean of the Gaussian distribution.\n",
    "        variance (float): The variance of the Gaussian distribution.\n",
    "\n",
    "    Returns:\n",
    "        float: The probability density value.\n",
    "    \"\"\"\n",
    "    coefficient = 1 / np.sqrt(2 * np.pi * variance)\n",
    "    exponent = np.exp(-((x - mean) ** 2) / (2 * variance))\n",
    "    return coefficient * exponent\n",
    "\n",
    "def predict(X, mean_variance, prior_probabilities, features):\n",
    "    \"\"\"\n",
    "    Predict the class labels for the given inputs.\n",
    "\n",
    "    Parameters:\n",
    "        X (ndarray): Input features.\n",
    "        mean_variance (dict): Precomputed mean and variance for each class.\n",
    "        prior_probabilities (dict): Prior probabilities of each class.\n",
    "        features (list): List of feature names.\n",
    "\n",
    "    Returns:\n",
    "        list: Predicted class labels.\n",
    "    \"\"\"\n",
    "    predictions = []\n",
    "    for x in X:\n",
    "        class_probs = {}\n",
    "        for cls in classes:\n",
    "            class_probs[cls] = np.log(prior_probabilities[cls])\n",
    "            for i, feature in enumerate(features):\n",
    "                mean = mean_variance[cls][\"mean\"][i]\n",
    "                variance = mean_variance[cls][\"variance\"][i]\n",
    "                class_probs[cls] += np.log(gaussian_pdf(x[i], mean, variance))\n",
    "        predictions.append(max(class_probs, key=class_probs.get))\n",
    "    return predictions"
   ]
  },
  {
   "cell_type": "code",
   "execution_count": 121,
   "id": "2493ebc0",
   "metadata": {},
   "outputs": [
    {
     "name": "stdout",
     "output_type": "stream",
     "text": [
      "Accuracy: 0.94\n"
     ]
    }
   ],
   "source": [
    "accuracy = np.mean(y_pred == y_test)\n",
    "print(f\"Accuracy: {accuracy:.2f}\")"
   ]
  },
  {
   "cell_type": "code",
   "execution_count": 122,
   "id": "d5ae8b99",
   "metadata": {},
   "outputs": [],
   "source": [
    "def accuracy_score(y_true, y_pred):\n",
    "    return np.mean(y_true == y_pred)\n",
    "\n",
    "def confusion_matrix(y_true, y_pred, labels):\n",
    "    matrix = np.zeros((len(labels), len(labels)), dtype=int)\n",
    "    for i, label in enumerate(labels):\n",
    "        for j, pred_label in enumerate(labels):\n",
    "            matrix[i, j] = np.sum((y_true == label) & (y_pred == pred_label))\n",
    "    return matrix\n",
    "\n",
    "def precision_score(y_true, y_pred, labels):\n",
    "    cm = confusion_matrix(y_true, y_pred, labels)\n",
    "    precision = np.diag(cm) / np.sum(cm, axis=0)\n",
    "    return np.nanmean(precision)\n",
    "\n",
    "def recall_score(y_true, y_pred, labels):\n",
    "    cm = confusion_matrix(y_true, y_pred, labels)\n",
    "    recall = np.diag(cm) / np.sum(cm, axis=1)\n",
    "    return np.nanmean(recall)\n",
    "\n",
    "def f1_score(y_true, y_pred, labels):\n",
    "    precision = precision_score(y_true, y_pred, labels)\n",
    "    recall = recall_score(y_true, y_pred, labels)\n",
    "    return 2 * (precision * recall) / (precision + recall)"
   ]
  },
  {
   "cell_type": "code",
   "execution_count": 123,
   "id": "4f5ed171",
   "metadata": {},
   "outputs": [
    {
     "name": "stdout",
     "output_type": "stream",
     "text": [
      "Accuracy: 0.94\n",
      "Precision: 0.83\n",
      "Recall: 0.88\n",
      "F1 Score: 0.86\n"
     ]
    }
   ],
   "source": [
    "labels = np.unique(y_train)\n",
    "accuracy = accuracy_score(y_test, y_pred)\n",
    "precision = precision_score(y_test, y_pred, labels)\n",
    "recall = recall_score(y_test, y_pred, labels)\n",
    "f1 = f1_score(y_test, y_pred, labels)\n",
    "\n",
    "print(f\"Accuracy: {accuracy:.2f}\")\n",
    "print(f\"Precision: {precision:.2f}\")\n",
    "print(f\"Recall: {recall:.2f}\")\n",
    "print(f\"F1 Score: {f1:.2f}\")"
   ]
  },
  {
   "cell_type": "code",
   "execution_count": 124,
   "id": "47428506",
   "metadata": {},
   "outputs": [],
   "source": [
    "def auc(tpr, fpr):\n",
    "    sorted_indices = np.argsort(fpr)\n",
    "    sorted_fpr = np.array(fpr)[sorted_indices]\n",
    "    sorted_tpr = np.array(tpr)[sorted_indices]\n",
    "    return np.trapz(sorted_tpr, sorted_fpr)"
   ]
  },
  {
   "cell_type": "code",
   "execution_count": 125,
   "id": "917a6376",
   "metadata": {},
   "outputs": [],
   "source": [
    "def predict_probabilities(X):\n",
    "    probabilities = []\n",
    "    for x in X:\n",
    "        class_probs = {}\n",
    "        total_prob = 0\n",
    "        for cls in classes:\n",
    "            class_probs[cls] = np.log(prior_probabilities[cls])\n",
    "            for i in range(len(features)):\n",
    "                mean = mean_variance[cls][\"mean\"][i]\n",
    "                variance = mean_variance[cls][\"variance\"][i]\n",
    "                class_probs[cls] += np.log(gaussian_pdf(x[i], mean, variance))\n",
    "            total_prob += np.exp(class_probs[cls])\n",
    "        for cls in classes:\n",
    "            class_probs[cls] = np.exp(class_probs[cls]) / total_prob\n",
    "        probabilities.append([class_probs[cls] for cls in sorted(classes)])\n",
    "    return np.array(probabilities)"
   ]
  },
  {
   "cell_type": "code",
   "execution_count": 126,
   "id": "0ffab93e",
   "metadata": {},
   "outputs": [
    {
     "name": "stderr",
     "output_type": "stream",
     "text": [
      "/var/folders/ss/mk5yhtwj41sf_tlkfkr4n5lh0000gn/T/ipykernel_33518/3923306888.py:11: RuntimeWarning: divide by zero encountered in log\n",
      "  class_probs[cls] += np.log(gaussian_pdf(x[i], mean, variance))\n"
     ]
    }
   ],
   "source": [
    "def calculate_roc_curve(y_true, y_prob):\n",
    "    tpr = []\n",
    "    fpr = []\n",
    "    thresholds = np.linspace(0, 1, 100)  \n",
    "    for threshold in thresholds:\n",
    "        y_pred = y_prob >= threshold\n",
    "        tp = np.sum((y_pred == 1) & (y_true == 1))\n",
    "        fp = np.sum((y_pred == 1) & (y_true == 0))\n",
    "        fn = np.sum((y_pred == 0) & (y_true == 1))\n",
    "        tn = np.sum((y_pred == 0) & (y_true == 0))\n",
    "        tpr.append(tp / (tp + fn) if tp + fn else 0)\n",
    "        fpr.append(fp / (fp + tn) if fp + tn else 0)\n",
    "    return fpr, tpr\n",
    "\n",
    "y_prob = predict_probabilities(X_test)\n",
    "fpr = dict()\n",
    "tpr = dict()\n",
    "roc_auc = dict()\n",
    "for i, cls in enumerate(classes):\n",
    "    fpr[cls], tpr[cls] = calculate_roc_curve(y_test == cls, y_prob[:, i])\n",
    "    roc_auc[cls] = auc(tpr[cls], fpr[cls])"
   ]
  },
  {
   "cell_type": "code",
   "execution_count": 127,
   "id": "8cca89b3",
   "metadata": {},
   "outputs": [
    {
     "data": {
      "image/png": "[encoded data removed]",
      "text/plain": [
       "<Figure size 640x480 with 1 Axes>"
      ]
     },
     "metadata": {},
     "output_type": "display_data"
    }
   ],
   "source": [
    "colors = ['blue', 'red', 'green', 'orange']\n",
    "plt.figure()\n",
    "for cls, color in zip(classes, colors):\n",
    "    plt.plot(fpr[cls], tpr[cls], color=color, lw=2, label=f'ROC curve of class {cls} (AUC = {roc_auc[cls]:0.2f})')\n",
    "plt.plot([0, 1], [0, 1], 'k--', lw=2)\n",
    "plt.xlim([-0.05, 1.0])\n",
    "plt.ylim([0.0, 1.05])\n",
    "plt.xlabel('False Positive Rate')\n",
    "plt.ylabel('True Positive Rate')\n",
    "plt.title('Receiver Operating Characteristic (ROC) for Naive Bayes')\n",
    "plt.legend(loc=\"lower right\")\n",
    "plt.show()"
   ]
  },
  {
   "cell_type": "markdown",
   "id": "3cbb7491",
   "metadata": {},
   "source": [
    "# Scikit vs Manual "
   ]
  },
  {
   "cell_type": "code",
   "execution_count": 62,
   "id": "2fe6eebd",
   "metadata": {},
   "outputs": [
    {
     "name": "stdout",
     "output_type": "stream",
     "text": [
      "Class 0 - Mean: [ 1.15815181e+01  4.06162386e+02  5.64849164e+00  1.11648716e+01\n",
      "  2.53240999e+01  1.16290274e+01  3.99057751e+00  2.53369681e+01\n",
      "  2.53695578e+01  2.49297796e+01  2.56600942e+01  2.67370821e+00\n",
      "  3.03784195e+00  1.32878419e+01  9.17598784e+00  4.99523176e-03\n",
      "  7.72492401e-02  5.28875380e-02  6.40927052e-02  7.96595745e-02\n",
      "  4.04737842e+02 -3.06899112e-01  2.88753799e-03  1.36778116e-03\n",
      "  1.06290274e+01  2.99057751e+00], Variance: [1.65506633e+03 1.97535473e+04 1.04669667e+02 7.73983282e+01\n",
      " 7.97110012e-02 5.89555404e+01 4.70112702e+00 5.77894549e-02\n",
      " 1.07221795e-01 1.09079936e-01 9.44922708e-02 2.66505245e+01\n",
      " 3.48765315e+01 5.84608940e+02 2.80815229e+02 2.56944683e-03\n",
      " 6.07361873e-03 4.94397215e-03 6.71824976e-03 9.83349156e-04\n",
      " 1.88740156e+04 6.87968407e-01 2.87920012e-03 1.36591033e-03\n",
      " 5.89555404e+01 4.70112702e+00]\n",
      "Class 1 - Mean: [1.87725016e+01 4.72175978e+02 2.29939455e+01 5.78064735e+01\n",
      " 2.57720391e+01 1.49329609e+01 5.56983240e+00 2.57708659e+01\n",
      " 2.58734916e+01 2.53268436e+01 2.61169553e+01 1.20083799e+02\n",
      " 3.08938547e+01 5.41312849e+01 3.72765363e+01 6.42510475e-02\n",
      " 4.30977654e-01 1.36983240e-01 1.28882682e-01 9.43575419e-02\n",
      " 4.74064246e+02 2.80070907e-01 3.54748603e-01 5.02793296e-02\n",
      " 1.39329609e+01 4.56983240e+00], Variance: [2.94574443e+02 8.38574417e+03 4.48001160e+01 4.61918312e+01\n",
      " 1.34049264e-01 4.15193034e+00 2.45123436e-01 9.66481329e-02\n",
      " 4.67948423e-01 9.74294225e-02 6.86597243e-02 1.48421398e+01\n",
      " 1.49888175e+02 2.64879412e+02 1.27401181e+02 1.33193956e-02\n",
      " 2.09466363e-01 1.61596142e-02 1.09395337e-02 2.54805093e-03\n",
      " 8.40226682e+03 8.73137962e-01 2.28902032e-01 4.77513186e-02\n",
      " 4.15193034e+00 2.45123436e-01]\n",
      "Class 2 - Mean: [6.12932455e+01 7.11209226e+02 4.26558608e+01 1.08445194e+02\n",
      " 2.59980272e+01 1.64827018e+01 5.27512356e+00 2.60120428e+01\n",
      " 2.61888303e+01 2.56051895e+01 2.61860461e+01 1.35589786e+02\n",
      " 1.32265239e+02 1.39739703e+02 2.97380560e+01 2.95294481e-01\n",
      " 6.19373970e-01 5.26309720e-01 6.39868204e-01 2.39159802e-01\n",
      " 7.16177924e+02 1.15115321e+00 4.81054366e-01 4.34925865e-01\n",
      " 1.54827018e+01 4.27512356e+00], Variance: [7.51986864e+03 3.84022371e+04 1.88393734e+02 5.89024500e+02\n",
      " 4.53815178e-02 6.54953603e+00 9.80320207e-01 5.11704562e-02\n",
      " 4.06901597e-01 9.95761997e-02 3.03553718e-02 4.06192515e+02\n",
      " 1.20415919e+04 3.89297673e+03 5.37030232e+02 1.38219868e-01\n",
      " 3.03849361e-01 3.19730039e-01 6.50975930e-01 4.16742529e-02\n",
      " 3.72107624e+04 1.65291806e+00 2.49641063e-01 2.45765357e-01\n",
      " 6.54953603e+00 9.80320207e-01]\n",
      "Class 3 - Mean: [1.18685219e+02 8.36747731e+02 4.55927269e+01 1.17371747e+02\n",
      " 2.61954991e+01 1.73284936e+01 4.58439201e+00 2.60597096e+01\n",
      " 2.67175318e+01 2.58244828e+01 2.61802722e+01 1.12192377e+02\n",
      " 1.75676951e+02 1.55437387e+02 2.59110708e+01 3.92428312e-01\n",
      " 5.56896552e-01 4.65553539e-01 7.61088929e-01 2.50834846e-01\n",
      " 8.46506352e+02 2.19112104e+00 5.35390200e-01 6.51542650e-01\n",
      " 1.63284936e+01 3.58439201e+00], Variance: [1.10425867e+05 6.10423701e+04 5.30933996e+02 3.79069275e+03\n",
      " 9.08874778e-02 3.81768176e+00 1.21928452e+00 6.42180645e-02\n",
      " 6.42098445e-01 4.42247325e-02 6.96759694e-02 4.27786136e+03\n",
      " 1.07708176e+04 6.44481595e+03 5.18705340e+02 2.45922643e-01\n",
      " 3.24503799e-01 2.67980773e-01 9.48542553e-01 1.18290410e-01\n",
      " 6.06482754e+04 2.09086045e+00 2.48747534e-01 2.27034825e-01\n",
      " 3.81768176e+00 1.21928452e+00]\n"
     ]
    }
   ],
   "source": [
    "def manual_naive_bayes(X_train, y_train):\n",
    "    classes = np.unique(y_train)\n",
    "    mean_variance = {}\n",
    "    for cls in classes:\n",
    "        features_data = X_train[y_train == cls]\n",
    "        mean_variance[cls] = {\n",
    "            \"mean\": np.mean(features_data, axis=0),\n",
    "            \"variance\": np.var(features_data, axis=0)\n",
    "        }\n",
    "        print(f\"Class {cls} - Mean: {mean_variance[cls]['mean']}, Variance: {mean_variance[cls]['variance']}\")\n",
    "    return mean_variance\n",
    "\n",
    "mean_variance_manual = manual_naive_bayes(X_train, y_train)\n"
   ]
  },
  {
   "cell_type": "code",
   "execution_count": 64,
   "id": "0665d767",
   "metadata": {},
   "outputs": [
    {
     "name": "stdout",
     "output_type": "stream",
     "text": [
      "Class Prior: [0.81274704 0.04421937 0.0749753  0.0680583 ]\n",
      "Class 0 - Mean: [ 1.15815181e+01  4.06162386e+02  5.64849164e+00  1.11648716e+01\n",
      "  2.53240999e+01  1.16290274e+01  3.99057751e+00  2.53369681e+01\n",
      "  2.53695578e+01  2.49297796e+01  2.56600942e+01  2.67370821e+00\n",
      "  3.03784195e+00  1.32878419e+01  9.17598784e+00  4.99523176e-03\n",
      "  7.72492401e-02  5.28875380e-02  6.40927052e-02  7.96595745e-02\n",
      "  4.04737842e+02 -3.06899112e-01  2.88753799e-03  1.36778116e-03\n",
      "  1.06290274e+01  2.99057751e+00], Variance: [1.65506637e+03 1.97535473e+04 1.04669708e+02 7.73983685e+01\n",
      " 7.97512126e-02 5.89555806e+01 4.70116723e+00 5.78296662e-02\n",
      " 1.07262007e-01 1.09120148e-01 9.45324821e-02 2.66505648e+01\n",
      " 3.48765717e+01 5.84608981e+02 2.80815269e+02 2.60965816e-03\n",
      " 6.11383007e-03 4.98418349e-03 6.75846110e-03 1.02356049e-03\n",
      " 1.88740157e+04 6.88008618e-01 2.91941145e-03 1.40612166e-03\n",
      " 5.89555806e+01 4.70116723e+00]\n",
      "Class 1 - Mean: [1.87725016e+01 4.72175978e+02 2.29939455e+01 5.78064735e+01\n",
      " 2.57720391e+01 1.49329609e+01 5.56983240e+00 2.57708659e+01\n",
      " 2.58734916e+01 2.53268436e+01 2.61169553e+01 1.20083799e+02\n",
      " 3.08938547e+01 5.41312849e+01 3.72765363e+01 6.42510475e-02\n",
      " 4.30977654e-01 1.36983240e-01 1.28882682e-01 9.43575419e-02\n",
      " 4.74064246e+02 2.80070907e-01 3.54748603e-01 5.02793296e-02\n",
      " 1.39329609e+01 4.56983240e+00], Variance: [2.94574483e+02 8.38574421e+03 4.48001563e+01 4.61918714e+01\n",
      " 1.34089475e-01 4.15197055e+00 2.45163647e-01 9.66883442e-02\n",
      " 4.67988634e-01 9.74696338e-02 6.86999356e-02 1.48421800e+01\n",
      " 1.49888215e+02 2.64879453e+02 1.27401222e+02 1.33596070e-02\n",
      " 2.09506574e-01 1.61998256e-02 1.09797451e-02 2.58826227e-03\n",
      " 8.40226686e+03 8.73178174e-01 2.28942243e-01 4.77915300e-02\n",
      " 4.15197055e+00 2.45163647e-01]\n",
      "Class 2 - Mean: [6.12932455e+01 7.11209226e+02 4.26558608e+01 1.08445194e+02\n",
      " 2.59980272e+01 1.64827018e+01 5.27512356e+00 2.60120428e+01\n",
      " 2.61888303e+01 2.56051895e+01 2.61860461e+01 1.35589786e+02\n",
      " 1.32265239e+02 1.39739703e+02 2.97380560e+01 2.95294481e-01\n",
      " 6.19373970e-01 5.26309720e-01 6.39868204e-01 2.39159802e-01\n",
      " 7.16177924e+02 1.15115321e+00 4.81054366e-01 4.34925865e-01\n",
      " 1.54827018e+01 4.27512356e+00], Variance: [7.51986868e+03 3.84022372e+04 1.88393774e+02 5.89024540e+02\n",
      " 4.54217291e-02 6.54957624e+00 9.80360418e-01 5.12106675e-02\n",
      " 4.06941809e-01 9.96164110e-02 3.03955832e-02 4.06192555e+02\n",
      " 1.20415920e+04 3.89297677e+03 5.37030272e+02 1.38260079e-01\n",
      " 3.03889572e-01 3.19770250e-01 6.51016141e-01 4.17144642e-02\n",
      " 3.72107625e+04 1.65295827e+00 2.49681274e-01 2.45805568e-01\n",
      " 6.54957624e+00 9.80360418e-01]\n",
      "Class 3 - Mean: [1.18685219e+02 8.36747731e+02 4.55927269e+01 1.17371747e+02\n",
      " 2.61954991e+01 1.73284936e+01 4.58439201e+00 2.60597096e+01\n",
      " 2.67175318e+01 2.58244828e+01 2.61802722e+01 1.12192377e+02\n",
      " 1.75676951e+02 1.55437387e+02 2.59110708e+01 3.92428312e-01\n",
      " 5.56896552e-01 4.65553539e-01 7.61088929e-01 2.50834846e-01\n",
      " 8.46506352e+02 2.19112104e+00 5.35390200e-01 6.51542650e-01\n",
      " 1.63284936e+01 3.58439201e+00], Variance: [1.10425867e+05 6.10423702e+04 5.30934037e+02 3.79069279e+03\n",
      " 9.09276891e-02 3.81772197e+00 1.21932473e+00 6.42582758e-02\n",
      " 6.42138656e-01 4.42649438e-02 6.97161808e-02 4.27786140e+03\n",
      " 1.07708176e+04 6.44481599e+03 5.18705380e+02 2.45962855e-01\n",
      " 3.24544010e-01 2.68020985e-01 9.48582764e-01 1.18330621e-01\n",
      " 6.06482754e+04 2.09090066e+00 2.48787745e-01 2.27075037e-01\n",
      " 3.81772197e+00 1.21932473e+00]\n"
     ]
    }
   ],
   "source": [
    "from sklearn.naive_bayes import GaussianNB\n",
    "\n",
    "def sklearn_naive_bayes(X_train, y_train):\n",
    "    model = GaussianNB()\n",
    "    model.fit(X_train, y_train)\n",
    "    print(\"Class Prior:\", model.class_prior_)\n",
    "    for i, cls in enumerate(model.classes_):\n",
    "        print(f\"Class {cls} - Mean: {model.theta_[i]}, Variance: {model.var_[i]}\")\n",
    "    return model\n",
    "\n",
    "model = sklearn_naive_bayes(X_train, y_train)\n"
   ]
  },
  {
   "cell_type": "code",
   "execution_count": 115,
   "id": "231c0ea5",
   "metadata": {},
   "outputs": [
    {
     "data": {
      "text/plain": [
       "Index(['MV CO2', 'MA CO2', 'Mean of Sound', 'Mean of Light',\n",
       "       'Mean of Temperature', 'Hour of Day', 'Day of Week', 'S1_Temp',\n",
       "       'S2_Temp', 'S3_Temp', 'S4_Temp', 'S1_Light', 'S2_Light', 'S3_Light',\n",
       "       'S4_Light', 'Footsteps Sound', 'S1_Sound', 'S2_Sound', 'S3_Sound',\n",
       "       'S4_Sound', 'S5_CO2', 'S5_CO2_Slope', 'S6_PIR', 'S7_PIR',\n",
       "       'Room_Occupancy_Count', 'Hour', 'DayOfWeek'],\n",
       "      dtype='object')"
      ]
     },
     "execution_count": 115,
     "metadata": {},
     "output_type": "execute_result"
    }
   ],
   "source": [
    "df.columns"
   ]
  },
  {
   "cell_type": "code",
   "execution_count": 132,
   "id": "74bab94c",
   "metadata": {},
   "outputs": [],
   "source": [
    "features = train_df.columns.drop('Room_Occupancy_Count')"
   ]
  },
  {
   "cell_type": "markdown",
   "id": "7ee9d7cf",
   "metadata": {},
   "source": [
    "## Prior probabilities P(y) "
   ]
  },
  {
   "cell_type": "code",
   "execution_count": 133,
   "id": "e77ce3d0",
   "metadata": {},
   "outputs": [],
   "source": [
    "prior_probabilities = {cls: np.mean(y_train == cls) for cls in classes}"
   ]
  },
  {
   "cell_type": "markdown",
   "id": "4b6c97ae",
   "metadata": {},
   "source": [
    "## Likelihoods"
   ]
  },
  {
   "cell_type": "code",
   "execution_count": 134,
   "id": "8e38b3de",
   "metadata": {},
   "outputs": [],
   "source": [
    "mean_variance = {}\n",
    "for cls in classes:\n",
    "    features_data = X_train[y_train == cls]\n",
    "    mean_variance[cls] = {\n",
    "        \"mean\": np.mean(features_data, axis=0),\n",
    "        \"variance\": np.var(features_data, axis=0)\n",
    "    }\n"
   ]
  },
  {
   "cell_type": "markdown",
   "id": "d3f6a471",
   "metadata": {},
   "source": [
    "## Posterior Probability"
   ]
  },
  {
   "cell_type": "code",
   "execution_count": 135,
   "id": "5923aaeb",
   "metadata": {},
   "outputs": [],
   "source": [
    "def predict(X, mean_variance, prior_probabilities, features):\n",
    "    predictions = []\n",
    "    for x in X:\n",
    "        class_probs = {}\n",
    "        for cls in classes:\n",
    "            class_probs[cls] = np.log(prior_probabilities[cls])\n",
    "            for i, feature in enumerate(features):\n",
    "                mean = mean_variance[cls][\"mean\"][i]\n",
    "                variance = mean_variance[cls][\"variance\"][i]\n",
    "                class_probs[cls] += np.log(gaussian_pdf(x[i], mean, variance))\n",
    "        predictions.append(max(class_probs, key=class_probs.get))\n",
    "    return predictions"
   ]
  },
  {
   "cell_type": "code",
   "execution_count": 136,
   "id": "4b0da07c",
   "metadata": {},
   "outputs": [
    {
     "name": "stderr",
     "output_type": "stream",
     "text": [
      "/var/folders/ss/mk5yhtwj41sf_tlkfkr4n5lh0000gn/T/ipykernel_33518/3126179150.py:10: RuntimeWarning: divide by zero encountered in log\n",
      "  class_probs[cls] += np.log(gaussian_pdf(x[i], mean, variance))\n"
     ]
    }
   ],
   "source": [
    "y_pred = predict(X_test, mean_variance, prior_probabilities, features)"
   ]
  },
  {
   "cell_type": "markdown",
   "id": "6fca0893",
   "metadata": {},
   "source": [
    "# Evaluation "
   ]
  },
  {
   "cell_type": "code",
   "execution_count": 137,
   "id": "cd8e7d80",
   "metadata": {},
   "outputs": [
    {
     "name": "stdout",
     "output_type": "stream",
     "text": [
      "Accuracy: 0.94\n"
     ]
    }
   ],
   "source": [
    "def accuracy_score(y_true, y_pred):\n",
    "    return np.mean(y_true == y_pred)\n",
    "\n",
    "accuracy = accuracy_score(y_test, y_pred)\n",
    "print(f\"Accuracy: {accuracy:.2f}\")"
   ]
  },
  {
   "cell_type": "code",
   "execution_count": 138,
   "id": "c123ccb8",
   "metadata": {},
   "outputs": [
    {
     "name": "stdout",
     "output_type": "stream",
     "text": [
      "Precision: 0.83\n",
      "Recall: 0.88\n",
      "F1 Score: 0.86\n"
     ]
    }
   ],
   "source": [
    "def confusion_matrix(y_true, y_pred, labels):\n",
    "    matrix = np.zeros((len(labels), len(labels)), dtype=int)\n",
    "    for i, label in enumerate(labels):\n",
    "        for j, pred_label in enumerate(labels):\n",
    "            matrix[i, j] = np.sum((y_true == label) & (y_pred == pred_label))\n",
    "    return matrix\n",
    "\n",
    "def precision_score(y_true, y_pred, labels):\n",
    "    cm = confusion_matrix(y_true, y_pred, labels)\n",
    "    precision = np.diag(cm) / np.sum(cm, axis=0)\n",
    "    return np.nanmean(precision)\n",
    "\n",
    "def recall_score(y_true, y_pred, labels):\n",
    "    cm = confusion_matrix(y_true, y_pred, labels)\n",
    "    recall = np.diag(cm) / np.sum(cm, axis=1)\n",
    "    return np.nanmean(recall)\n",
    "\n",
    "def f1_score(y_true, y_pred, labels):\n",
    "    precision = precision_score(y_true, y_pred, labels)\n",
    "    recall = recall_score(y_true, y_pred, labels)\n",
    "    return 2 * (precision * recall) / (precision + recall)\n",
    "\n",
    "labels = np.unique(y_train)\n",
    "precision = precision_score(y_test, y_pred, labels)\n",
    "recall = recall_score(y_test, y_pred, labels)\n",
    "f1 = f1_score(y_test, y_pred, labels)\n",
    "\n",
    "print(f\"Precision: {precision:.2f}\")\n",
    "print(f\"Recall: {recall:.2f}\")\n",
    "print(f\"F1 Score: {f1:.2f}\")"
   ]
  },
  {
   "cell_type": "markdown",
   "id": "49cba108",
   "metadata": {},
   "source": [
    "## ROC Curve and AUC"
   ]
  },
  {
   "cell_type": "code",
   "execution_count": 140,
   "id": "fdfc012a",
   "metadata": {},
   "outputs": [
    {
     "name": "stderr",
     "output_type": "stream",
     "text": [
      "/var/folders/ss/mk5yhtwj41sf_tlkfkr4n5lh0000gn/T/ipykernel_33518/3923306888.py:11: RuntimeWarning: divide by zero encountered in log\n",
      "  class_probs[cls] += np.log(gaussian_pdf(x[i], mean, variance))\n"
     ]
    }
   ],
   "source": [
    "def calculate_roc_curve(y_true, y_prob):\n",
    "    tpr = []\n",
    "    fpr = []\n",
    "    thresholds = np.linspace(0, 1, 100)  \n",
    "    for threshold in thresholds:\n",
    "        y_pred = y_prob >= threshold\n",
    "        tp = np.sum((y_pred == 1) & (y_true == 1))\n",
    "        fp = np.sum((y_pred == 1) & (y_true == 0))\n",
    "        fn = np.sum((y_pred == 0) & (y_true == 1))\n",
    "        tn = np.sum((y_pred == 0) & (y_true == 0))\n",
    "        tpr.append(tp / (tp + fn) if tp + fn else 0)\n",
    "        fpr.append(fp / (fp + tn) if fp + tn else 0)\n",
    "    return fpr, tpr\n",
    "\n",
    "y_prob = predict_probabilities(X_test)\n",
    "fpr = dict()\n",
    "tpr = dict()\n",
    "roc_auc = dict()\n",
    "for i, cls in enumerate(classes):\n",
    "    fpr[cls], tpr[cls] = calculate_roc_curve(y_test == cls, y_prob[:, i])\n",
    "    roc_auc[cls] = auc(tpr[cls], fpr[cls])"
   ]
  },
  {
   "cell_type": "code",
   "execution_count": 141,
   "id": "a694653b",
   "metadata": {},
   "outputs": [
    {
     "data": {
      "image/png": "[encoded data removed]",
      "text/plain": [
       "<Figure size 640x480 with 1 Axes>"
      ]
     },
     "metadata": {},
     "output_type": "display_data"
    }
   ],
   "source": [
    "colors = ['blue', 'red', 'green', 'orange']\n",
    "plt.figure()\n",
    "for cls, color in zip(classes, colors):\n",
    "    plt.plot(fpr[cls], tpr[cls], color=color, lw=2, label=f'ROC curve of class {cls} (AUC = {roc_auc[cls]:0.2f})')\n",
    "plt.plot([0, 1], [0, 1], 'k--', lw=2)\n",
    "plt.xlim([-0.05, 1.0])\n",
    "plt.ylim([0.0, 1.05])\n",
    "plt.xlabel('False Positive Rate')\n",
    "plt.ylabel('True Positive Rate')\n",
    "plt.title('Receiver Operating Characteristic (ROC) for Naive Bayes')\n",
    "plt.legend(loc=\"lower right\")\n",
    "plt.show()"
   ]
  },
  {
   "cell_type": "code",
   "execution_count": null,
   "id": "1c176bd9",
   "metadata": {},
   "outputs": [],
   "source": []
  }
 ],
 "metadata": {
  "kernelspec": {
   "display_name": "Python 3 (ipykernel)",
   "language": "python",
   "name": "python3"
  },
  "language_info": {
   "codemirror_mode": {
    "name": "ipython",
    "version": 3
   },
   "file_extension": ".py",
   "mimetype": "text/x-python",
   "name": "python",
   "nbconvert_exporter": "python",
   "pygments_lexer": "ipython3",
   "version": "3.10.13"
  }
 },
 "nbformat": 4,
 "nbformat_minor": 5
}
